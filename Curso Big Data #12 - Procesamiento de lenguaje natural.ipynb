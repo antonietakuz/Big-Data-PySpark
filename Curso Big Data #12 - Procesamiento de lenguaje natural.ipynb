{
 "cells": [
  {
   "cell_type": "markdown",
   "id": "05ed2e51",
   "metadata": {},
   "source": [
    "# Curso Big Data #12 - Sistema de recomendacion"
   ]
  },
  {
   "cell_type": "markdown",
   "id": "f6eb18c8",
   "metadata": {},
   "source": [
    "#### 1. Inicializamos la SparkSession"
   ]
  },
  {
   "cell_type": "code",
   "execution_count": 1,
   "id": "5b127b92",
   "metadata": {},
   "outputs": [],
   "source": [
    "from pyspark.sql import SparkSession\n",
    "spark = SparkSession.builder.appName('NLP').getOrCreate()"
   ]
  },
  {
   "cell_type": "markdown",
   "id": "e32fd2fa",
   "metadata": {},
   "source": [
    "#### 2. Loading the dataset"
   ]
  },
  {
   "cell_type": "code",
   "execution_count": 3,
   "id": "e188793e",
   "metadata": {},
   "outputs": [
    {
     "name": "stdout",
     "output_type": "stream",
     "text": [
      "+-----+--------------------+\n",
      "|class|                text|\n",
      "+-----+--------------------+\n",
      "|  ham|Go until jurong p...|\n",
      "|  ham|Ok lar... Joking ...|\n",
      "| spam|Free entry in 2 a...|\n",
      "|  ham|U dun say so earl...|\n",
      "|  ham|Nah I don't think...|\n",
      "+-----+--------------------+\n",
      "only showing top 5 rows\n",
      "\n"
     ]
    }
   ],
   "source": [
    "df = spark.read.csv('C:/Users/pc/pruebas/SMSSpamCollection', inferSchema=True, sep='\\t')\n",
    "#renombrar las etiquetas de las columnas\n",
    "df = df.withColumnRenamed('_c0', 'class').withColumnRenamed('_c1', 'text')\n",
    "df.show(5)"
   ]
  },
  {
   "cell_type": "markdown",
   "id": "e66f2cbf",
   "metadata": {},
   "source": [
    "#### 3. Ingenieria de las caracteristicas"
   ]
  },
  {
   "cell_type": "code",
   "execution_count": 5,
   "id": "76cb6f39",
   "metadata": {},
   "outputs": [
    {
     "name": "stdout",
     "output_type": "stream",
     "text": [
      "+-----+--------------------+------+\n",
      "|class|                text|length|\n",
      "+-----+--------------------+------+\n",
      "|  ham|Go until jurong p...|   111|\n",
      "|  ham|Ok lar... Joking ...|    29|\n",
      "| spam|Free entry in 2 a...|   155|\n",
      "|  ham|U dun say so earl...|    49|\n",
      "|  ham|Nah I don't think...|    61|\n",
      "+-----+--------------------+------+\n",
      "only showing top 5 rows\n",
      "\n"
     ]
    }
   ],
   "source": [
    "from pyspark.sql.functions import length\n",
    "df = df.withColumn('length', length(df['text']))\n",
    "df.show(5)"
   ]
  },
  {
   "cell_type": "code",
   "execution_count": 6,
   "id": "b0f4bc8f",
   "metadata": {},
   "outputs": [
    {
     "name": "stdout",
     "output_type": "stream",
     "text": [
      "+-----+-----------------+\n",
      "|class|      avg(length)|\n",
      "+-----+-----------------+\n",
      "|  ham|71.45431945307645|\n",
      "| spam|138.6706827309237|\n",
      "+-----+-----------------+\n",
      "\n"
     ]
    }
   ],
   "source": [
    "df.groupBy('class').mean().show()"
   ]
  },
  {
   "cell_type": "markdown",
   "id": "eb34509c",
   "metadata": {},
   "source": [
    "#### 4. Formateamos las columnas de texto"
   ]
  },
  {
   "cell_type": "code",
   "execution_count": 7,
   "id": "5a4881b0",
   "metadata": {},
   "outputs": [],
   "source": [
    "from pyspark.ml.feature import StringIndexer, Tokenizer, StopWordsRemover, CountVectorizer, IDF, VectorAssembler\n",
    "ham_spam_to_numeric = StringIndexer(inputCol='class', outputCol='label')\n",
    "# df_1 = ham_spam_to_numeric.fit(df).transform(df)\n",
    "# df_1.show()\n",
    "tokenizer = Tokenizer(inputCol='text', outputCol='token_text')\n",
    "# df_2 = tokenizer.transform(df_1)\n",
    "# df_2.show()\n",
    "stop_remove = StopWordsRemover(inputCol='token_text', outputCol='token_stop')\n",
    "# df_3 = stop_remove.transform(df_2)\n",
    "# df_3.show()\n",
    "count_vec = CountVectorizer(inputCol='token_stop', outputCol='count_vec')\n",
    "# df_4 = count_vec.fit(df_3).transform(df_3)\n",
    "# df_4.show()\n",
    "\n",
    "# TF-IDF Term with document y\n",
    "idf = IDF(inputCol='count_vec', outputCol='tf-idf')\n",
    "# df_5 = idf.fit(df_4).transform(df_4)\n",
    "# df_5.show()\n",
    "transformed_df = VectorAssembler(inputCols=['length', 'tf-idf'], outputCol='features')\n",
    "# df_6 = transformed_df.transform(df_5)\n",
    "# df_6.show()"
   ]
  },
  {
   "cell_type": "markdown",
   "id": "abe88109",
   "metadata": {},
   "source": [
    "#### 5. Realizamos una pipeline"
   ]
  },
  {
   "cell_type": "code",
   "execution_count": 9,
   "id": "824517c5",
   "metadata": {},
   "outputs": [
    {
     "name": "stdout",
     "output_type": "stream",
     "text": [
      "+-----+--------------------+\n",
      "|label|            features|\n",
      "+-----+--------------------+\n",
      "|  0.0|(13424,[0,8,12,32...|\n",
      "|  0.0|(13424,[0,1,25,29...|\n",
      "|  1.0|(13424,[0,3,14,20...|\n",
      "|  0.0|(13424,[0,1,71,81...|\n",
      "|  0.0|(13424,[0,37,135,...|\n",
      "+-----+--------------------+\n",
      "only showing top 5 rows\n",
      "\n"
     ]
    }
   ],
   "source": [
    "from pyspark.ml import Pipeline\n",
    "df_pipe = Pipeline(stages=[ham_spam_to_numeric,\n",
    "                           tokenizer,\n",
    "                           stop_remove,\n",
    "                           count_vec,\n",
    "                           idf,\n",
    "                           transformed_df])\n",
    "final_df = df_pipe.fit(df).transform(df).select('label', 'features')\n",
    "final_df.show(5)"
   ]
  },
  {
   "cell_type": "markdown",
   "id": "92b17954",
   "metadata": {},
   "source": [
    "#### 6. Splitting the dataset"
   ]
  },
  {
   "cell_type": "code",
   "execution_count": 10,
   "id": "350561d7",
   "metadata": {},
   "outputs": [],
   "source": [
    "train_data, test_data = final_df.randomSplit([0.7, 0.3])"
   ]
  },
  {
   "cell_type": "markdown",
   "id": "c7391787",
   "metadata": {},
   "source": [
    "#### 7. Construimos el modelo ML"
   ]
  },
  {
   "cell_type": "code",
   "execution_count": 11,
   "id": "f09a84e9",
   "metadata": {},
   "outputs": [],
   "source": [
    "from pyspark.ml.classification import NaiveBayes\n",
    "classifier = NaiveBayes(featuresCol='features', labelCol='label', predictionCol='prediction')\n",
    "fittied_classifer = classifier.fit(train_data)"
   ]
  },
  {
   "cell_type": "markdown",
   "id": "571a8886",
   "metadata": {},
   "source": [
    "#### 8. Predecimos el test data"
   ]
  },
  {
   "cell_type": "code",
   "execution_count": 12,
   "id": "201e7bcd",
   "metadata": {},
   "outputs": [
    {
     "name": "stdout",
     "output_type": "stream",
     "text": [
      "+-----+--------------------+--------------------+--------------------+----------+\n",
      "|label|            features|       rawPrediction|         probability|prediction|\n",
      "+-----+--------------------+--------------------+--------------------+----------+\n",
      "|  0.0|(13424,[0,1,2,3,4...|[-1068.3818480198...|[1.0,4.3911827060...|       0.0|\n",
      "|  0.0|(13424,[0,1,2,10,...|[-540.15840938280...|[1.0,2.1771371733...|       0.0|\n",
      "|  0.0|(13424,[0,1,2,12,...|[-868.09511796942...|[1.0,6.2159304457...|       0.0|\n",
      "|  0.0|(13424,[0,1,2,16,...|[-665.15449447695...|[1.0,2.4829360910...|       0.0|\n",
      "|  0.0|(13424,[0,1,2,22,...|[-752.02142842782...|[1.0,9.3010665196...|       0.0|\n",
      "|  0.0|(13424,[0,1,2,24,...|[-1327.0847206418...|[1.0,2.4085604079...|       0.0|\n",
      "|  0.0|(13424,[0,1,2,32,...|[-342.44358033794...|[1.0,1.3871262760...|       0.0|\n",
      "|  0.0|(13424,[0,1,2,44,...|[-617.94456184795...|[0.99639187330920...|       0.0|\n",
      "|  0.0|(13424,[0,1,2,73,...|[-672.90776021646...|[1.0,1.5834862349...|       0.0|\n",
      "|  0.0|(13424,[0,1,2,875...|[-97.297788207833...|[0.99999992760725...|       0.0|\n",
      "|  0.0|(13424,[0,1,3,4,5...|[-1275.9230042024...|[1.0,9.2806291944...|       0.0|\n",
      "|  0.0|(13424,[0,1,3,4,6...|[-511.71652038123...|[0.99999999999997...|       0.0|\n",
      "|  0.0|(13424,[0,1,3,5,6...|[-986.57004512761...|[1.0,3.4176232633...|       0.0|\n",
      "|  0.0|(13424,[0,1,3,5,6...|[-2501.1693292498...|[1.0,4.2271626246...|       0.0|\n",
      "|  0.0|(13424,[0,1,3,5,6...|[-1630.6364871830...|[1.0,1.3079410150...|       0.0|\n",
      "|  0.0|(13424,[0,1,3,5,9...|[-1315.4932038714...|[1.0,3.1847712376...|       0.0|\n",
      "|  0.0|(13424,[0,1,3,5,9...|[-1408.3462808008...|[1.0,7.7960217187...|       0.0|\n",
      "|  0.0|(13424,[0,1,3,5,9...|[-547.71106161102...|[1.0,7.5750500902...|       0.0|\n",
      "|  0.0|(13424,[0,1,3,5,1...|[-655.96527000028...|[1.0,3.0531169912...|       0.0|\n",
      "|  0.0|(13424,[0,1,3,8,9...|[-1145.6074683147...|[1.0,2.0497401761...|       0.0|\n",
      "+-----+--------------------+--------------------+--------------------+----------+\n",
      "only showing top 20 rows\n",
      "\n"
     ]
    }
   ],
   "source": [
    "preds = fittied_classifer.transform(test_data)\n",
    "preds.show()"
   ]
  },
  {
   "cell_type": "markdown",
   "id": "38804e3f",
   "metadata": {},
   "source": [
    "#### 9. Evaluamos the model"
   ]
  },
  {
   "cell_type": "code",
   "execution_count": 14,
   "id": "41c5e6d7",
   "metadata": {},
   "outputs": [
    {
     "name": "stdout",
     "output_type": "stream",
     "text": [
      "Area bajo la curva: 0.9363118746708794\n",
      "Accuracy: 0.9206541490006057\n"
     ]
    }
   ],
   "source": [
    "from pyspark.ml.evaluation import BinaryClassificationEvaluator, MulticlassClassificationEvaluator\n",
    "evaluator = BinaryClassificationEvaluator(rawPredictionCol='prediction', labelCol='label')\n",
    "area_under_curve = evaluator.evaluate(preds)\n",
    "accuracy = MulticlassClassificationEvaluator(metricName='accuracy', labelCol='label')\n",
    "accuracy = accuracy.evaluate(preds)\n",
    "print('Area bajo la curva:', area_under_curve)\n",
    "print('Accuracy:', accuracy)"
   ]
  },
  {
   "cell_type": "code",
   "execution_count": null,
   "id": "3cb02902",
   "metadata": {},
   "outputs": [],
   "source": []
  }
 ],
 "metadata": {
  "kernelspec": {
   "display_name": "Python 3 (ipykernel)",
   "language": "python",
   "name": "python3"
  },
  "language_info": {
   "codemirror_mode": {
    "name": "ipython",
    "version": 3
   },
   "file_extension": ".py",
   "mimetype": "text/x-python",
   "name": "python",
   "nbconvert_exporter": "python",
   "pygments_lexer": "ipython3",
   "version": "3.9.16"
  }
 },
 "nbformat": 4,
 "nbformat_minor": 5
}
