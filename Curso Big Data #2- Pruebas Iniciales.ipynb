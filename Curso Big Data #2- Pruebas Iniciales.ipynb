{
 "cells": [
  {
   "cell_type": "markdown",
   "id": "27efcb87",
   "metadata": {},
   "source": [
    "## Curso Big Data #2- Pruebas Iniciales"
   ]
  },
  {
   "cell_type": "code",
   "execution_count": null,
   "id": "b4d19f12",
   "metadata": {},
   "outputs": [],
   "source": [
    "# Importing packages\n",
    "import pyspark\n",
    "from pyspark.sql import SparkSession\n",
    "from pyspark.sql.types import StructType,StructField, StringType, IntegerType \n",
    "from pyspark.sql.types import ArrayType, DoubleType, BooleanType\n",
    "from pyspark.sql.functions import col,array_contains"
   ]
  },
  {
   "cell_type": "code",
   "execution_count": 12,
   "id": "cc6c214e",
   "metadata": {},
   "outputs": [],
   "source": [
    "from pyspark.sql import SparkSession\n",
    "spark = SparkSession.builder.appName('abc').getOrCreate()"
   ]
  },
  {
   "cell_type": "code",
   "execution_count": 22,
   "id": "5b53c98b",
   "metadata": {},
   "outputs": [],
   "source": [
    "dataframe2 = spark.read.option(\"header\",True) \\\n",
    "              .csv(\"C:/Users/pc/pruebas/artists_billboard.csv\")\n",
    "\n"
   ]
  },
  {
   "cell_type": "code",
   "execution_count": 23,
   "id": "80793452",
   "metadata": {},
   "outputs": [
    {
     "name": "stdout",
     "output_type": "stream",
     "text": [
      "+---+--------------------+--------------------+-------------+------------+------------------+-----------+----------+-----------+---+--------------+\n",
      "| id|               title|              artist|         mood|       tempo|             genre|artist_type|chart_date|durationSeg|top|anioNacimiento|\n",
      "+---+--------------------+--------------------+-------------+------------+------------------+-----------+----------+-----------+---+--------------+\n",
      "|  0|Small Town Throwdown|BRANTLEY GILBERT ...|     Brooding|Medium Tempo|       Traditional|       Male|  20140628|      191.0|  0|        1975.0|\n",
      "|  1|           Bang Bang|JESSIE J, ARIANA ...|   Energizing|Medium Tempo|               Pop|     Female|  20140816|      368.0|  0|        1989.0|\n",
      "|  2|              Timber|PITBULL featuring...|      Excited|Medium Tempo|             Urban|      Mixed|  20140118|      223.0|  1|        1993.0|\n",
      "|  3|     Sweater Weather|   THE NEIGHBOURHOOD|     Brooding|Medium Tempo|Alternative & Punk|       Male|  20140104|      206.0|  0|        1989.0|\n",
      "|  4|           Automatic|     MIRANDA LAMBERT|     Yearning|Medium Tempo|       Traditional|     Female|  20140301|      232.0|  0|            .0|\n",
      "|  5|Where Is At (Yep ...|        DUSTIN LYNCH|       Upbeat|Medium Tempo|       Traditional|       Male|  20140531|      219.0|  0|        1990.0|\n",
      "|  6|Single Ladies (Pu...|             BEYONCE|         Cool|  Slow Tempo|             Urban|     Female|  20081213|       43.0|  1|        1981.0|\n",
      "|  7|Me And My Broken ...|              RIXTON|       Urgent|  Fast Tempo|               Pop|       Male|  20140412|      557.0|  0|        1973.0|\n",
      "|  8|       I Luh Ya Papi|JENNIFER LOPEZ fe...|   Aggressive|Medium Tempo|             Urban|     Female|  20140329|      182.0|  0|        1969.0|\n",
      "|  9|           Chocolate|            THE 1975|     Yearning|Medium Tempo|Alternative & Punk|       Male|  20140208|      347.0|  0|            .0|\n",
      "| 10|               Fancy|IGGY AZALEA featu...|   Energizing|Medium Tempo|             Urban|     Female|  20140607|      197.0|  1|        1974.0|\n",
      "| 11|   Take Me To Church|              HOZIER|Sophisticated|Medium Tempo|Alternative & Punk|       Male|  20140830|      223.0|  0|            .0|\n",
      "| 12|           Confident|JUSTIN BIEBER fea...|   Energizing|  Fast Tempo|               Pop|       Male|  20140215|      258.0|  0|        1992.0|\n",
      "| 13|             V. 3005|    CHILDISH GAMBINO|      Defiant|Medium Tempo|             Urban|       Male|  20140628|      302.0|  0|            .0|\n",
      "| 14|           Lifestyle|RICH GANG featuri...|      Sensual|Medium Tempo|             Urban|     Female|  20140802|      182.0|  0|        1977.0|\n",
      "| 15|       Teenage Dream|          KATY PERRY|      Excited|Medium Tempo|               Pop|     Female|  20100918|      235.0|  1|        1984.0|\n",
      "| 16|         Hello Kitty|       AVRIL LAVIGNE|   Aggressive|Medium Tempo|               Pop|     Female|  20140510|      222.0|  0|        1984.0|\n",
      "| 17| Underneath The Tree|      KELLY CLARKSON|     Yearning|Medium Tempo|               Pop|     Female|  20140104|      199.0|  0|        1985.0|\n",
      "| 18|       Know Yourself|               DRAKE|         Cool|Medium Tempo|             Urban|       Male|  20150307|      282.0|  0|        1986.0|\n",
      "| 19|        Drink A Beer|          LUKE BRYAN|   Empowering|Medium Tempo|       Traditional|       Male|  20140104|      242.0|  0|        1976.0|\n",
      "+---+--------------------+--------------------+-------------+------------+------------------+-----------+----------+-----------+---+--------------+\n",
      "only showing top 20 rows\n",
      "\n"
     ]
    }
   ],
   "source": [
    "dataframe2.show()\n"
   ]
  },
  {
   "cell_type": "code",
   "execution_count": 24,
   "id": "57025295",
   "metadata": {},
   "outputs": [],
   "source": [
    "dataframe1 = spark.read.csv (\"C:/Users/pc/pruebas/artists_billboard.csv\", inferSchema=True, header=True)"
   ]
  },
  {
   "cell_type": "code",
   "execution_count": 25,
   "id": "3d99fe9e",
   "metadata": {},
   "outputs": [
    {
     "name": "stdout",
     "output_type": "stream",
     "text": [
      "+---+--------------------+--------------------+-------------+------------+------------------+-----------+----------+-----------+---+--------------+\n",
      "| id|               title|              artist|         mood|       tempo|             genre|artist_type|chart_date|durationSeg|top|anioNacimiento|\n",
      "+---+--------------------+--------------------+-------------+------------+------------------+-----------+----------+-----------+---+--------------+\n",
      "|  0|Small Town Throwdown|BRANTLEY GILBERT ...|     Brooding|Medium Tempo|       Traditional|       Male|  20140628|      191.0|  0|        1975.0|\n",
      "|  1|           Bang Bang|JESSIE J, ARIANA ...|   Energizing|Medium Tempo|               Pop|     Female|  20140816|      368.0|  0|        1989.0|\n",
      "|  2|              Timber|PITBULL featuring...|      Excited|Medium Tempo|             Urban|      Mixed|  20140118|      223.0|  1|        1993.0|\n",
      "|  3|     Sweater Weather|   THE NEIGHBOURHOOD|     Brooding|Medium Tempo|Alternative & Punk|       Male|  20140104|      206.0|  0|        1989.0|\n",
      "|  4|           Automatic|     MIRANDA LAMBERT|     Yearning|Medium Tempo|       Traditional|     Female|  20140301|      232.0|  0|           0.0|\n",
      "|  5|Where Is At (Yep ...|        DUSTIN LYNCH|       Upbeat|Medium Tempo|       Traditional|       Male|  20140531|      219.0|  0|        1990.0|\n",
      "|  6|Single Ladies (Pu...|             BEYONCE|         Cool|  Slow Tempo|             Urban|     Female|  20081213|       43.0|  1|        1981.0|\n",
      "|  7|Me And My Broken ...|              RIXTON|       Urgent|  Fast Tempo|               Pop|       Male|  20140412|      557.0|  0|        1973.0|\n",
      "|  8|       I Luh Ya Papi|JENNIFER LOPEZ fe...|   Aggressive|Medium Tempo|             Urban|     Female|  20140329|      182.0|  0|        1969.0|\n",
      "|  9|           Chocolate|            THE 1975|     Yearning|Medium Tempo|Alternative & Punk|       Male|  20140208|      347.0|  0|           0.0|\n",
      "| 10|               Fancy|IGGY AZALEA featu...|   Energizing|Medium Tempo|             Urban|     Female|  20140607|      197.0|  1|        1974.0|\n",
      "| 11|   Take Me To Church|              HOZIER|Sophisticated|Medium Tempo|Alternative & Punk|       Male|  20140830|      223.0|  0|           0.0|\n",
      "| 12|           Confident|JUSTIN BIEBER fea...|   Energizing|  Fast Tempo|               Pop|       Male|  20140215|      258.0|  0|        1992.0|\n",
      "| 13|             V. 3005|    CHILDISH GAMBINO|      Defiant|Medium Tempo|             Urban|       Male|  20140628|      302.0|  0|           0.0|\n",
      "| 14|           Lifestyle|RICH GANG featuri...|      Sensual|Medium Tempo|             Urban|     Female|  20140802|      182.0|  0|        1977.0|\n",
      "| 15|       Teenage Dream|          KATY PERRY|      Excited|Medium Tempo|               Pop|     Female|  20100918|      235.0|  1|        1984.0|\n",
      "| 16|         Hello Kitty|       AVRIL LAVIGNE|   Aggressive|Medium Tempo|               Pop|     Female|  20140510|      222.0|  0|        1984.0|\n",
      "| 17| Underneath The Tree|      KELLY CLARKSON|     Yearning|Medium Tempo|               Pop|     Female|  20140104|      199.0|  0|        1985.0|\n",
      "| 18|       Know Yourself|               DRAKE|         Cool|Medium Tempo|             Urban|       Male|  20150307|      282.0|  0|        1986.0|\n",
      "| 19|        Drink A Beer|          LUKE BRYAN|   Empowering|Medium Tempo|       Traditional|       Male|  20140104|      242.0|  0|        1976.0|\n",
      "+---+--------------------+--------------------+-------------+------------+------------------+-----------+----------+-----------+---+--------------+\n",
      "only showing top 20 rows\n",
      "\n"
     ]
    }
   ],
   "source": [
    "dataframe1.show()"
   ]
  },
  {
   "cell_type": "code",
   "execution_count": 26,
   "id": "594eaae2",
   "metadata": {},
   "outputs": [
    {
     "name": "stdout",
     "output_type": "stream",
     "text": [
      "root\n",
      " |-- id: string (nullable = true)\n",
      " |-- title: string (nullable = true)\n",
      " |-- artist: string (nullable = true)\n",
      " |-- mood: string (nullable = true)\n",
      " |-- tempo: string (nullable = true)\n",
      " |-- genre: string (nullable = true)\n",
      " |-- artist_type: string (nullable = true)\n",
      " |-- chart_date: string (nullable = true)\n",
      " |-- durationSeg: string (nullable = true)\n",
      " |-- top: string (nullable = true)\n",
      " |-- anioNacimiento: string (nullable = true)\n",
      "\n"
     ]
    }
   ],
   "source": [
    "dataframe2.printSchema()"
   ]
  },
  {
   "cell_type": "code",
   "execution_count": 28,
   "id": "3374e175",
   "metadata": {},
   "outputs": [],
   "source": [
    "dataframe3= dataframe1.select(dataframe1.id, dataframe1.title)"
   ]
  },
  {
   "cell_type": "code",
   "execution_count": 29,
   "id": "074ca919",
   "metadata": {},
   "outputs": [
    {
     "name": "stdout",
     "output_type": "stream",
     "text": [
      "+---+--------------------+\n",
      "| id|               title|\n",
      "+---+--------------------+\n",
      "|  0|Small Town Throwdown|\n",
      "|  1|           Bang Bang|\n",
      "|  2|              Timber|\n",
      "|  3|     Sweater Weather|\n",
      "|  4|           Automatic|\n",
      "|  5|Where Is At (Yep ...|\n",
      "|  6|Single Ladies (Pu...|\n",
      "|  7|Me And My Broken ...|\n",
      "|  8|       I Luh Ya Papi|\n",
      "|  9|           Chocolate|\n",
      "| 10|               Fancy|\n",
      "| 11|   Take Me To Church|\n",
      "| 12|           Confident|\n",
      "| 13|             V. 3005|\n",
      "| 14|           Lifestyle|\n",
      "| 15|       Teenage Dream|\n",
      "| 16|         Hello Kitty|\n",
      "| 17| Underneath The Tree|\n",
      "| 18|       Know Yourself|\n",
      "| 19|        Drink A Beer|\n",
      "+---+--------------------+\n",
      "only showing top 20 rows\n",
      "\n"
     ]
    }
   ],
   "source": [
    "dataframe3.show()"
   ]
  },
  {
   "cell_type": "code",
   "execution_count": 36,
   "id": "2ac3b634",
   "metadata": {},
   "outputs": [],
   "source": [
    "dataframe4=dataframe1.selectExpr(\"tempo\", \"durationSeg\", \"tempo='Medium Tempo' AS nueva_columna\")"
   ]
  },
  {
   "cell_type": "code",
   "execution_count": 37,
   "id": "6c075583",
   "metadata": {},
   "outputs": [
    {
     "name": "stdout",
     "output_type": "stream",
     "text": [
      "+------------+-----------+-------------+\n",
      "|       tempo|durationSeg|nueva_columna|\n",
      "+------------+-----------+-------------+\n",
      "|Medium Tempo|      191.0|         true|\n",
      "|Medium Tempo|      368.0|         true|\n",
      "|Medium Tempo|      223.0|         true|\n",
      "|Medium Tempo|      206.0|         true|\n",
      "|Medium Tempo|      232.0|         true|\n",
      "|Medium Tempo|      219.0|         true|\n",
      "|  Slow Tempo|       43.0|        false|\n",
      "|  Fast Tempo|      557.0|        false|\n",
      "|Medium Tempo|      182.0|         true|\n",
      "|Medium Tempo|      347.0|         true|\n",
      "|Medium Tempo|      197.0|         true|\n",
      "|Medium Tempo|      223.0|         true|\n",
      "|  Fast Tempo|      258.0|        false|\n",
      "|Medium Tempo|      302.0|         true|\n",
      "|Medium Tempo|      182.0|         true|\n",
      "|Medium Tempo|      235.0|         true|\n",
      "|Medium Tempo|      222.0|         true|\n",
      "|Medium Tempo|      199.0|         true|\n",
      "|Medium Tempo|      282.0|         true|\n",
      "|Medium Tempo|      242.0|         true|\n",
      "+------------+-----------+-------------+\n",
      "only showing top 20 rows\n",
      "\n"
     ]
    }
   ],
   "source": [
    "dataframe4.show()"
   ]
  },
  {
   "cell_type": "code",
   "execution_count": 39,
   "id": "dc26ba34",
   "metadata": {},
   "outputs": [],
   "source": [
    "dataframe5=dataframe4.drop(\"durationSeg\")"
   ]
  },
  {
   "cell_type": "code",
   "execution_count": 40,
   "id": "1c8d0086",
   "metadata": {},
   "outputs": [
    {
     "name": "stdout",
     "output_type": "stream",
     "text": [
      "+------------+-------------+\n",
      "|       tempo|nueva_columna|\n",
      "+------------+-------------+\n",
      "|Medium Tempo|         true|\n",
      "|Medium Tempo|         true|\n",
      "|Medium Tempo|         true|\n",
      "|Medium Tempo|         true|\n",
      "|Medium Tempo|         true|\n",
      "|Medium Tempo|         true|\n",
      "|  Slow Tempo|        false|\n",
      "|  Fast Tempo|        false|\n",
      "|Medium Tempo|         true|\n",
      "|Medium Tempo|         true|\n",
      "|Medium Tempo|         true|\n",
      "|Medium Tempo|         true|\n",
      "|  Fast Tempo|        false|\n",
      "|Medium Tempo|         true|\n",
      "|Medium Tempo|         true|\n",
      "|Medium Tempo|         true|\n",
      "|Medium Tempo|         true|\n",
      "|Medium Tempo|         true|\n",
      "|Medium Tempo|         true|\n",
      "|Medium Tempo|         true|\n",
      "+------------+-------------+\n",
      "only showing top 20 rows\n",
      "\n"
     ]
    }
   ],
   "source": [
    "dataframe5.show()"
   ]
  },
  {
   "cell_type": "code",
   "execution_count": 41,
   "id": "4b20f3e2",
   "metadata": {},
   "outputs": [],
   "source": [
    "dataframe6=dataframe1.filter(dataframe1.genre ==\"Traditional\")"
   ]
  },
  {
   "cell_type": "code",
   "execution_count": 42,
   "id": "9eb9aa26",
   "metadata": {},
   "outputs": [
    {
     "name": "stdout",
     "output_type": "stream",
     "text": [
      "+---+--------------------+--------------------+----------+------------+-----------+-----------+----------+-----------+---+--------------+\n",
      "| id|               title|              artist|      mood|       tempo|      genre|artist_type|chart_date|durationSeg|top|anioNacimiento|\n",
      "+---+--------------------+--------------------+----------+------------+-----------+-----------+----------+-----------+---+--------------+\n",
      "|  0|Small Town Throwdown|BRANTLEY GILBERT ...|  Brooding|Medium Tempo|Traditional|       Male|  20140628|      191.0|  0|        1975.0|\n",
      "|  4|           Automatic|     MIRANDA LAMBERT|  Yearning|Medium Tempo|Traditional|     Female|  20140301|      232.0|  0|           0.0|\n",
      "|  5|Where Is At (Yep ...|        DUSTIN LYNCH|    Upbeat|Medium Tempo|Traditional|       Male|  20140531|      219.0|  0|        1990.0|\n",
      "| 19|        Drink A Beer|          LUKE BRYAN|Empowering|Medium Tempo|Traditional|       Male|  20140104|      242.0|  0|        1976.0|\n",
      "| 27|Doin' What She Likes|       BLAKE SHELTON|Empowering|Medium Tempo|Traditional|       Male|  20140201|      195.0|  0|           0.0|\n",
      "| 28|That's My Kind Of...|          LUKE BRYAN|    Gritty|Medium Tempo|Traditional|       Male|  20140104|      285.0|  0|        1976.0|\n",
      "| 31|      Take Your Time|            SAM HUNT|  Yearning|Medium Tempo|Traditional|       Male|  20150117|      197.0|  0|        1984.0|\n",
      "| 33|Something In The ...|    CARRIE UNDERWOOD|  Romantic|Medium Tempo|Traditional|     Female|  20141018|      184.0|  0|           0.0|\n",
      "| 38|        Take Me Home|CASH CASH featuri...|  Romantic|Medium Tempo|Traditional|       Male|  20140201|      271.0|  0|           0.0|\n",
      "| 46|Gonna Know We Wer...|        JASON ALDEAN|  Yearning|Medium Tempo|Traditional|       Male|  20141004|      233.0|  0|        1977.0|\n",
      "| 62|Meanwhile Back At...|TIM McGRAW featur...|  Yearning|Medium Tempo|Traditional|      Mixed|  20140614|      259.0|  0|           0.0|\n",
      "| 63| This Is How We Roll|FLORIDA GEORGIA L...|Empowering|Medium Tempo|Traditional|       Male|  20140301|      367.0|  0|        1987.0|\n",
      "| 69|           Invisible|        HUNTER HAYES|Empowering|  Slow Tempo|Traditional|       Male|  20140208|      223.0|  0|        1986.0|\n",
      "| 70|Sweet Little Some...|        JASON ALDEAN|  Brooding|Medium Tempo|Traditional|       Male|  20140920|      262.0|  0|        1979.0|\n",
      "| 82|        Sunny And 75|         JOE NICHOLS|  Yearning|Medium Tempo|Traditional|       Male|  20140104|      300.0|  0|        1970.0|\n",
      "| 84|      Two Night Town|        JASON ALDEAN|Empowering|Medium Tempo|Traditional|       Male|  20140927|        0.0|  0|           0.0|\n",
      "| 98|    Drunk Last Night|      ELI YOUNG BAND|  Yearning|Medium Tempo|Traditional|       Male|  20140104|      263.0|  0|        1973.0|\n",
      "|100|        Day Drinking|     LITTLE BIG TOWN|    Urgent|Medium Tempo|Traditional|      Mixed|  20140621|      329.0|  0|        1971.0|\n",
      "|101|                Yeah|         JOE NICHOLS|  Yearning|Medium Tempo|Traditional|       Male|  20140510|        0.0|  0|        1981.0|\n",
      "|107|     Close Your Eyes|            PARMALEE|Empowering|Medium Tempo|Traditional|       Male|  20141011|      272.0|  0|        1981.0|\n",
      "+---+--------------------+--------------------+----------+------------+-----------+-----------+----------+-----------+---+--------------+\n",
      "only showing top 20 rows\n",
      "\n"
     ]
    }
   ],
   "source": [
    "dataframe6.show()"
   ]
  },
  {
   "cell_type": "code",
   "execution_count": null,
   "id": "34b49887",
   "metadata": {},
   "outputs": [],
   "source": []
  }
 ],
 "metadata": {
  "kernelspec": {
   "display_name": "Python 3 (ipykernel)",
   "language": "python",
   "name": "python3"
  },
  "language_info": {
   "codemirror_mode": {
    "name": "ipython",
    "version": 3
   },
   "file_extension": ".py",
   "mimetype": "text/x-python",
   "name": "python",
   "nbconvert_exporter": "python",
   "pygments_lexer": "ipython3",
   "version": "3.9.16"
  }
 },
 "nbformat": 4,
 "nbformat_minor": 5
}
