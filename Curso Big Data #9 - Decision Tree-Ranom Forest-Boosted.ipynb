{
 "cells": [
  {
   "cell_type": "markdown",
   "id": "5d9e5a65",
   "metadata": {},
   "source": [
    "# Curso Big Data #9 - Decision Tree-Ranom Forest-Boosted"
   ]
  },
  {
   "cell_type": "markdown",
   "id": "d4e919e0",
   "metadata": {},
   "source": [
    "#### 1. Inicializamos la sesion en spark"
   ]
  },
  {
   "cell_type": "code",
   "execution_count": 2,
   "id": "1d0922b8",
   "metadata": {},
   "outputs": [],
   "source": [
    "from pyspark.sql import SparkSession\n",
    "spark = SparkSession.builder.appName('dt_rf_gbt').getOrCreate()"
   ]
  },
  {
   "cell_type": "markdown",
   "id": "d4d7372d",
   "metadata": {},
   "source": [
    "#### 2. Cargamos el dataset¶"
   ]
  },
  {
   "cell_type": "code",
   "execution_count": 3,
   "id": "1f80ce32",
   "metadata": {},
   "outputs": [],
   "source": [
    "df = spark.read.csv('C:/Users/pc/pruebas/dog_food.csv', inferSchema=True, header=True)"
   ]
  },
  {
   "cell_type": "code",
   "execution_count": 5,
   "id": "3017a48a",
   "metadata": {},
   "outputs": [
    {
     "name": "stdout",
     "output_type": "stream",
     "text": [
      "+---+---+----+---+-------+\n",
      "|  A|  B|   C|  D|Spoiled|\n",
      "+---+---+----+---+-------+\n",
      "|  4|  2|12.0|  3|    1.0|\n",
      "|  5|  6|12.0|  7|    1.0|\n",
      "|  6|  2|13.0|  6|    1.0|\n",
      "|  4|  2|12.0|  1|    1.0|\n",
      "|  4|  2|12.0|  3|    1.0|\n",
      "+---+---+----+---+-------+\n",
      "only showing top 5 rows\n",
      "\n"
     ]
    }
   ],
   "source": [
    "df.show(5)"
   ]
  },
  {
   "cell_type": "code",
   "execution_count": 6,
   "id": "60ac9ac4",
   "metadata": {},
   "outputs": [
    {
     "name": "stdout",
     "output_type": "stream",
     "text": [
      "+-------+------------------+------------------+------------------+------------------+-------------------+\n",
      "|summary|                 A|                 B|                 C|                 D|            Spoiled|\n",
      "+-------+------------------+------------------+------------------+------------------+-------------------+\n",
      "|  count|               490|               490|               490|               490|                490|\n",
      "|   mean|  5.53469387755102| 5.504081632653061| 9.126530612244897| 5.579591836734694| 0.2857142857142857|\n",
      "| stddev|2.9515204234399057|2.8537966089662063|2.0555451971054275|2.8548369309982857|0.45221563164613465|\n",
      "|    min|                 1|                 1|               5.0|                 1|                0.0|\n",
      "|    max|                10|                10|              14.0|                10|                1.0|\n",
      "+-------+------------------+------------------+------------------+------------------+-------------------+\n",
      "\n"
     ]
    }
   ],
   "source": [
    "df.describe().show()"
   ]
  },
  {
   "cell_type": "markdown",
   "id": "2b70bdb8",
   "metadata": {},
   "source": [
    "#### 3. Convertir el dataset a caracteristicas y etiquetas"
   ]
  },
  {
   "cell_type": "code",
   "execution_count": 7,
   "id": "0e1ce5f4",
   "metadata": {},
   "outputs": [],
   "source": [
    "from pyspark.ml.feature import VectorAssembler\n",
    "assembler = VectorAssembler(inputCols = df.columns[:-1], outputCol = 'features')\n",
    "final_df = assembler.transform(df).select('features', 'Spoiled')"
   ]
  },
  {
   "cell_type": "markdown",
   "id": "8ff60414",
   "metadata": {},
   "source": [
    "#### 4. Inicializamos los modelos"
   ]
  },
  {
   "cell_type": "code",
   "execution_count": 9,
   "id": "9f54a61b",
   "metadata": {},
   "outputs": [],
   "source": [
    "from pyspark.ml.classification import DecisionTreeClassifier, RandomForestClassifier, GBTClassifier\n",
    "\n",
    "dtc = DecisionTreeClassifier(labelCol = 'Spoiled')\n",
    "rfc = RandomForestClassifier(labelCol = 'Spoiled', numTrees = 3)\n",
    "gbtc = GBTClassifier(labelCol = 'Spoiled')"
   ]
  },
  {
   "cell_type": "markdown",
   "id": "6a4b2eda",
   "metadata": {},
   "source": [
    "#### 5. Fitting los modelos"
   ]
  },
  {
   "cell_type": "code",
   "execution_count": 10,
   "id": "d43802bc",
   "metadata": {},
   "outputs": [],
   "source": [
    "\n",
    "dtc_model = dtc.fit(final_df)\n",
    "rfc_model = rfc.fit(final_df)\n",
    "gbtc_model = gbtc.fit(final_df)"
   ]
  },
  {
   "cell_type": "markdown",
   "id": "47e977fa",
   "metadata": {},
   "source": [
    "#### 6. Seleccionamos las mejores caracteristicas"
   ]
  },
  {
   "cell_type": "code",
   "execution_count": 12,
   "id": "bbb9eeef",
   "metadata": {},
   "outputs": [
    {
     "name": "stdout",
     "output_type": "stream",
     "text": [
      "DTC:"
     ]
    },
    {
     "data": {
      "text/plain": [
       "SparseVector(4, {1: 0.0019, 2: 0.9832, 3: 0.0149})"
      ]
     },
     "execution_count": 12,
     "metadata": {},
     "output_type": "execute_result"
    }
   ],
   "source": [
    "print('DTC:', end='')\n",
    "dtc_model.featureImportances"
   ]
  },
  {
   "cell_type": "code",
   "execution_count": 13,
   "id": "b86ca621",
   "metadata": {},
   "outputs": [
    {
     "name": "stdout",
     "output_type": "stream",
     "text": [
      "RFC:"
     ]
    },
    {
     "data": {
      "text/plain": [
       "SparseVector(4, {0: 0.0287, 1: 0.034, 2: 0.9048, 3: 0.0325})"
      ]
     },
     "execution_count": 13,
     "metadata": {},
     "output_type": "execute_result"
    }
   ],
   "source": [
    "print('RFC:', end='')\n",
    "rfc_model.featureImportances"
   ]
  },
  {
   "cell_type": "code",
   "execution_count": 14,
   "id": "5b8b59d9",
   "metadata": {},
   "outputs": [
    {
     "name": "stdout",
     "output_type": "stream",
     "text": [
      "GBTC:"
     ]
    },
    {
     "data": {
      "text/plain": [
       "SparseVector(4, {0: 0.0296, 1: 0.0383, 2: 0.8286, 3: 0.1034})"
      ]
     },
     "execution_count": 14,
     "metadata": {},
     "output_type": "execute_result"
    }
   ],
   "source": [
    "print('GBTC:', end='')\n",
    "gbtc_model.featureImportances"
   ]
  },
  {
   "cell_type": "code",
   "execution_count": 15,
   "id": "c3685625",
   "metadata": {},
   "outputs": [
    {
     "name": "stdout",
     "output_type": "stream",
     "text": [
      "+---+---+----+---+-------+\n",
      "|  A|  B|   C|  D|Spoiled|\n",
      "+---+---+----+---+-------+\n",
      "|  4|  2|12.0|  3|    1.0|\n",
      "|  5|  6|12.0|  7|    1.0|\n",
      "|  6|  2|13.0|  6|    1.0|\n",
      "|  4|  2|12.0|  1|    1.0|\n",
      "|  4|  2|12.0|  3|    1.0|\n",
      "| 10|  3|13.0|  9|    1.0|\n",
      "|  8|  5|14.0|  5|    1.0|\n",
      "|  5|  8|12.0|  8|    1.0|\n",
      "|  6|  5|12.0|  9|    1.0|\n",
      "|  3|  3|12.0|  1|    1.0|\n",
      "|  9|  8|11.0|  3|    1.0|\n",
      "|  1| 10|12.0|  3|    1.0|\n",
      "|  1|  5|13.0| 10|    1.0|\n",
      "|  2| 10|12.0|  6|    1.0|\n",
      "|  1| 10|11.0|  4|    1.0|\n",
      "|  5|  3|12.0|  2|    1.0|\n",
      "|  4|  9|11.0|  8|    1.0|\n",
      "|  5|  1|11.0|  1|    1.0|\n",
      "|  4|  9|12.0| 10|    1.0|\n",
      "|  5|  8|10.0|  9|    1.0|\n",
      "+---+---+----+---+-------+\n",
      "only showing top 20 rows\n",
      "\n"
     ]
    }
   ],
   "source": [
    "df.show()"
   ]
  },
  {
   "cell_type": "code",
   "execution_count": null,
   "id": "625b2aeb",
   "metadata": {},
   "outputs": [],
   "source": []
  }
 ],
 "metadata": {
  "kernelspec": {
   "display_name": "Python 3 (ipykernel)",
   "language": "python",
   "name": "python3"
  },
  "language_info": {
   "codemirror_mode": {
    "name": "ipython",
    "version": 3
   },
   "file_extension": ".py",
   "mimetype": "text/x-python",
   "name": "python",
   "nbconvert_exporter": "python",
   "pygments_lexer": "ipython3",
   "version": "3.9.16"
  }
 },
 "nbformat": 4,
 "nbformat_minor": 5
}
