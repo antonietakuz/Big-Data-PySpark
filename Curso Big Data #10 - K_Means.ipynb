{
 "cells": [
  {
   "cell_type": "markdown",
   "id": "de6ff027",
   "metadata": {},
   "source": [
    "# Curso Big Data #10 - K_Means"
   ]
  },
  {
   "cell_type": "markdown",
   "id": "9932a9fb",
   "metadata": {},
   "source": [
    "#### 1. Inicializamos la SparkSession\n"
   ]
  },
  {
   "cell_type": "code",
   "execution_count": 55,
   "id": "5f7d219e",
   "metadata": {},
   "outputs": [],
   "source": [
    "from pyspark.sql import SparkSession\n",
    "spark = SparkSession.builder.appName('KMeans').getOrCreate()"
   ]
  },
  {
   "cell_type": "markdown",
   "id": "0013a80b",
   "metadata": {},
   "source": [
    "#### 2.  Importamos el ddataset"
   ]
  },
  {
   "cell_type": "code",
   "execution_count": 56,
   "id": "85dfdf91",
   "metadata": {},
   "outputs": [],
   "source": [
    "df = spark.read.csv('C:/Users/pc/pruebas/hack_data.csv', inferSchema=True, header=True)\n",
    "df = df.drop('Location')"
   ]
  },
  {
   "cell_type": "code",
   "execution_count": 50,
   "id": "b10b38d7",
   "metadata": {},
   "outputs": [
    {
     "name": "stdout",
     "output_type": "stream",
     "text": [
      "+-----------------------+-----------------+---------------+-----------------+---------------+----------------+\n",
      "|Session_Connection_Time|Bytes Transferred|Kali_Trace_Used|Servers_Corrupted|Pages_Corrupted|WPM_Typing_Speed|\n",
      "+-----------------------+-----------------+---------------+-----------------+---------------+----------------+\n",
      "|                    8.0|           391.09|              1|             2.96|            7.0|           72.37|\n",
      "|                   20.0|           720.99|              0|             3.04|            9.0|           69.08|\n",
      "|                   31.0|           356.32|              1|             3.71|            8.0|           70.58|\n",
      "|                    2.0|           228.08|              1|             2.48|            8.0|            70.8|\n",
      "|                   20.0|            408.5|              0|             3.57|            8.0|           71.28|\n",
      "+-----------------------+-----------------+---------------+-----------------+---------------+----------------+\n",
      "only showing top 5 rows\n",
      "\n"
     ]
    }
   ],
   "source": [
    "df.show(5)"
   ]
  },
  {
   "cell_type": "markdown",
   "id": "dde516ca",
   "metadata": {},
   "source": [
    "#### 3. Transformamos el dataset"
   ]
  },
  {
   "cell_type": "code",
   "execution_count": null,
   "id": "166d30e1",
   "metadata": {},
   "outputs": [],
   "source": [
    "from pyspark.ml.feature import VectorAssembler\n",
    "\n",
    "assembler = VectorAssembler(inputCols=df.columns, outputCol='features')\n",
    "df = assembler.transform(df)"
   ]
  },
  {
   "cell_type": "markdown",
   "id": "4c345b43",
   "metadata": {},
   "source": [
    "#### 4. Escalando las caracteristicas"
   ]
  },
  {
   "cell_type": "code",
   "execution_count": 59,
   "id": "8c67aee8",
   "metadata": {},
   "outputs": [],
   "source": [
    "\n",
    "from pyspark.ml.feature import StandardScaler\n",
    "scaler = StandardScaler(inputCol='features', outputCol='scaled_features')\n",
    "df = scaler.fit(df).transform(df)"
   ]
  },
  {
   "cell_type": "markdown",
   "id": "9b498d69",
   "metadata": {},
   "source": [
    "#### 5. Creamos el modelo"
   ]
  },
  {
   "cell_type": "code",
   "execution_count": 60,
   "id": "76374ed7",
   "metadata": {},
   "outputs": [],
   "source": [
    "\n",
    "from pyspark.ml.clustering import KMeans\n",
    "kmeans = KMeans(featuresCol='scaled_features', k=2)\n",
    "kmeans = kmeans.fit(df)\n",
    "\n"
   ]
  },
  {
   "cell_type": "code",
   "execution_count": 62,
   "id": "84e9ffd7",
   "metadata": {},
   "outputs": [
    {
     "name": "stdout",
     "output_type": "stream",
     "text": [
      "KMeansModel: uid=KMeans_df4fc99bc9f1, k=2, distanceMeasure=euclidean, numFeatures=6\n"
     ]
    }
   ],
   "source": [
    "print (kmeans)"
   ]
  },
  {
   "cell_type": "markdown",
   "id": "331526cb",
   "metadata": {},
   "source": [
    "#### 6. Obtenemos las predicciones"
   ]
  },
  {
   "cell_type": "code",
   "execution_count": 63,
   "id": "d8a1cdf0",
   "metadata": {},
   "outputs": [
    {
     "name": "stdout",
     "output_type": "stream",
     "text": [
      "+-----------------------+-----------------+---------------+-----------------+---------------+----------------+--------------------+--------------------+----------+\n",
      "|Session_Connection_Time|Bytes Transferred|Kali_Trace_Used|Servers_Corrupted|Pages_Corrupted|WPM_Typing_Speed|            features|     scaled_features|prediction|\n",
      "+-----------------------+-----------------+---------------+-----------------+---------------+----------------+--------------------+--------------------+----------+\n",
      "|                    8.0|           391.09|              1|             2.96|            7.0|           72.37|[8.0,391.09,1.0,2...|[0.56785108466505...|         1|\n",
      "|                   20.0|           720.99|              0|             3.04|            9.0|           69.08|[20.0,720.99,0.0,...|[1.41962771166263...|         1|\n",
      "|                   31.0|           356.32|              1|             3.71|            8.0|           70.58|[31.0,356.32,1.0,...|[2.20042295307707...|         1|\n",
      "+-----------------------+-----------------+---------------+-----------------+---------------+----------------+--------------------+--------------------+----------+\n",
      "only showing top 3 rows\n",
      "\n"
     ]
    }
   ],
   "source": [
    "pdt = kmeans.transform(df)\n",
    "kmeans.transform(df).show(3)"
   ]
  },
  {
   "cell_type": "markdown",
   "id": "53a34f0b",
   "metadata": {},
   "source": [
    "#### 7. Evaluamos el modelo (k = 2)"
   ]
  },
  {
   "cell_type": "code",
   "execution_count": 64,
   "id": "e38f27c2",
   "metadata": {},
   "outputs": [
    {
     "name": "stdout",
     "output_type": "stream",
     "text": [
      "Silhouette with squared euclidean distance = 0.6683623593283755\n"
     ]
    }
   ],
   "source": [
    "from pyspark.ml.evaluation import ClusteringEvaluator\n",
    "\n",
    "# Make predictions\n",
    "predictions = kmeans.transform(df)\n",
    "\n",
    "# Evaluate clustering by computing Silhouette score\n",
    "evaluator = ClusteringEvaluator()\n",
    "\n",
    "silhouette = evaluator.evaluate(predictions)\n",
    "print(\"Silhouette with squared euclidean distance = \" + str(silhouette))"
   ]
  },
  {
   "cell_type": "code",
   "execution_count": 65,
   "id": "9204dea8",
   "metadata": {},
   "outputs": [],
   "source": [
    "wssse = model.summary.trainingCost"
   ]
  },
  {
   "cell_type": "code",
   "execution_count": 66,
   "id": "74faab44",
   "metadata": {},
   "outputs": [
    {
     "name": "stdout",
     "output_type": "stream",
     "text": [
      "6914859.905711964\n"
     ]
    }
   ],
   "source": [
    "print(wssse)"
   ]
  },
  {
   "cell_type": "code",
   "execution_count": 69,
   "id": "958f2ec2",
   "metadata": {},
   "outputs": [
    {
     "name": "stdout",
     "output_type": "stream",
     "text": [
      "601.7707512676691\n",
      "[array([2.99991988, 2.92319035, 1.05261534, 3.20390443, 4.51321315,\n",
      "       3.28474   ]), array([1.26023837, 1.31829808, 0.99280765, 1.36491885, 2.5625043 ,\n",
      "       5.26676612])]\n"
     ]
    }
   ],
   "source": [
    "\n",
    "wssse = kmeans.summary.trainingCost\n",
    "centers = kmeans.clusterCenters()\n",
    "print(wssse)\n",
    "print(centers)"
   ]
  },
  {
   "cell_type": "markdown",
   "id": "65cfc423",
   "metadata": {},
   "source": [
    "#### 8. Counting the number of samples in each predicted cluster (k = 2)"
   ]
  },
  {
   "cell_type": "code",
   "execution_count": 67,
   "id": "4e4e510d",
   "metadata": {},
   "outputs": [
    {
     "name": "stdout",
     "output_type": "stream",
     "text": [
      "+----------+-----+\n",
      "|prediction|count|\n",
      "+----------+-----+\n",
      "|         1|  167|\n",
      "|         0|  167|\n",
      "+----------+-----+\n",
      "\n"
     ]
    }
   ],
   "source": [
    "\n",
    "df_pred = kmeans.transform(df)\n",
    "df_pred = df_pred.groupby('prediction').count()\n",
    "df_pred.show()"
   ]
  },
  {
   "cell_type": "code",
   "execution_count": null,
   "id": "9a62f0d8",
   "metadata": {},
   "outputs": [],
   "source": []
  }
 ],
 "metadata": {
  "kernelspec": {
   "display_name": "Python 3 (ipykernel)",
   "language": "python",
   "name": "python3"
  },
  "language_info": {
   "codemirror_mode": {
    "name": "ipython",
    "version": 3
   },
   "file_extension": ".py",
   "mimetype": "text/x-python",
   "name": "python",
   "nbconvert_exporter": "python",
   "pygments_lexer": "ipython3",
   "version": "3.9.16"
  }
 },
 "nbformat": 4,
 "nbformat_minor": 5
}
