{
 "cells": [
  {
   "cell_type": "markdown",
   "id": "9bda7599",
   "metadata": {},
   "source": [
    "## Curso Big Data #4- Transformaciones en columnas en PySpark"
   ]
  },
  {
   "cell_type": "markdown",
   "id": "ac15390f",
   "metadata": {},
   "source": [
    "# Librerías"
   ]
  },
  {
   "cell_type": "code",
   "execution_count": 1,
   "id": "cb624ae8",
   "metadata": {},
   "outputs": [],
   "source": [
    "import findspark\n",
    "findspark.init()"
   ]
  },
  {
   "cell_type": "code",
   "execution_count": 2,
   "id": "477be620",
   "metadata": {},
   "outputs": [],
   "source": [
    "from pyspark.sql import SparkSession"
   ]
  },
  {
   "cell_type": "markdown",
   "id": "0d09349a",
   "metadata": {},
   "source": [
    "# 1. Crear la SparkSession"
   ]
  },
  {
   "cell_type": "code",
   "execution_count": 3,
   "id": "8d5295d0",
   "metadata": {},
   "outputs": [],
   "source": [
    "spark = SparkSession.builder.appName('columnsTransform').getOrCreate()"
   ]
  },
  {
   "cell_type": "markdown",
   "id": "86a9874f",
   "metadata": {},
   "source": [
    "# 2. Lectura parquet"
   ]
  },
  {
   "cell_type": "code",
   "execution_count": 4,
   "id": "e67e6530",
   "metadata": {},
   "outputs": [],
   "source": [
    "df = spark.read.parquet('parquet_example')"
   ]
  },
  {
   "cell_type": "code",
   "execution_count": 5,
   "id": "eb98e5dc",
   "metadata": {},
   "outputs": [
    {
     "name": "stdout",
     "output_type": "stream",
     "text": [
      "+----------------+-------+----------+----------+------+-------+---------+--------------------+--------------------+--------------------+--------------------+--------------+--------------+--------------+\n",
      "|Series_reference| Period|Data_value|Suppressed|STATUS|  UNITS|Magnitude|             Subject|               Group|      Series_title_1|      Series_title_2|Series_title_3|Series_title_4|Series_title_5|\n",
      "+----------------+-------+----------+----------+------+-------+---------+--------------------+--------------------+--------------------+--------------------+--------------+--------------+--------------+\n",
      "|   BDCQ.SF1AA2CA|2016.06|  1116.386|      null|     F|Dollars|        6|Business Data Col...|Industry by finan...|Sales (operating ...|Forestry and Logging|Current prices|    Unadjusted|          null|\n",
      "|   BDCQ.SF1AA2CA|2016.09|  1070.874|      null|     F|Dollars|        6|Business Data Col...|Industry by finan...|Sales (operating ...|Forestry and Logging|Current prices|    Unadjusted|          null|\n",
      "+----------------+-------+----------+----------+------+-------+---------+--------------------+--------------------+--------------------+--------------------+--------------+--------------+--------------+\n",
      "only showing top 2 rows\n",
      "\n"
     ]
    }
   ],
   "source": [
    "df.show(2)"
   ]
  },
  {
   "cell_type": "code",
   "execution_count": 6,
   "id": "c9803607",
   "metadata": {},
   "outputs": [
    {
     "name": "stdout",
     "output_type": "stream",
     "text": [
      "root\n",
      " |-- Series_reference: string (nullable = true)\n",
      " |-- Period: string (nullable = true)\n",
      " |-- Data_value: string (nullable = true)\n",
      " |-- Suppressed: string (nullable = true)\n",
      " |-- STATUS: string (nullable = true)\n",
      " |-- UNITS: string (nullable = true)\n",
      " |-- Magnitude: string (nullable = true)\n",
      " |-- Subject: string (nullable = true)\n",
      " |-- Group: string (nullable = true)\n",
      " |-- Series_title_1: string (nullable = true)\n",
      " |-- Series_title_2: string (nullable = true)\n",
      " |-- Series_title_3: string (nullable = true)\n",
      " |-- Series_title_4: string (nullable = true)\n",
      " |-- Series_title_5: string (nullable = true)\n",
      "\n"
     ]
    }
   ],
   "source": [
    "df.printSchema()"
   ]
  },
  {
   "cell_type": "markdown",
   "id": "09981450",
   "metadata": {},
   "source": [
    "# 3. Operaciones simples sobre columnas\n",
    "# 3.1 Selección de columnas"
   ]
  },
  {
   "cell_type": "code",
   "execution_count": 7,
   "id": "8b4db3ea",
   "metadata": {},
   "outputs": [],
   "source": [
    "sel_cols = ['Series_title_1', 'Series_title_2', 'Series_title_3', 'Series_title_4', 'Series_title_5']\n",
    "df_sel = df.select(sel_cols)"
   ]
  },
  {
   "cell_type": "code",
   "execution_count": 8,
   "id": "22c33c26",
   "metadata": {},
   "outputs": [
    {
     "name": "stdout",
     "output_type": "stream",
     "text": [
      "+--------------------+--------------------+--------------+--------------+--------------+\n",
      "|      Series_title_1|      Series_title_2|Series_title_3|Series_title_4|Series_title_5|\n",
      "+--------------------+--------------------+--------------+--------------+--------------+\n",
      "|Sales (operating ...|Forestry and Logging|Current prices|    Unadjusted|          null|\n",
      "|Sales (operating ...|Forestry and Logging|Current prices|    Unadjusted|          null|\n",
      "|Sales (operating ...|Forestry and Logging|Current prices|    Unadjusted|          null|\n",
      "|Sales (operating ...|Forestry and Logging|Current prices|    Unadjusted|          null|\n",
      "|Sales (operating ...|Forestry and Logging|Current prices|    Unadjusted|          null|\n",
      "+--------------------+--------------------+--------------+--------------+--------------+\n",
      "only showing top 5 rows\n",
      "\n"
     ]
    }
   ],
   "source": [
    "df_sel.show(5)"
   ]
  },
  {
   "cell_type": "code",
   "execution_count": 9,
   "id": "13d0c39e",
   "metadata": {},
   "outputs": [
    {
     "name": "stdout",
     "output_type": "stream",
     "text": [
      "+--------------------+--------------------+--------------+--------------+--------------+\n",
      "|      Series_title_1|      Series_title_2|Series_title_3|Series_title_4|Series_title_5|\n",
      "+--------------------+--------------------+--------------+--------------+--------------+\n",
      "|Sales (operating ...|Forestry and Logging|Current prices|    Unadjusted|          null|\n",
      "|Sales (operating ...|Forestry and Logging|Current prices|    Unadjusted|          null|\n",
      "|Sales (operating ...|Forestry and Logging|Current prices|    Unadjusted|          null|\n",
      "|Sales (operating ...|Forestry and Logging|Current prices|    Unadjusted|          null|\n",
      "|Sales (operating ...|Forestry and Logging|Current prices|    Unadjusted|          null|\n",
      "+--------------------+--------------------+--------------+--------------+--------------+\n",
      "only showing top 5 rows\n",
      "\n"
     ]
    }
   ],
   "source": [
    "df[sel_cols].show(5)"
   ]
  },
  {
   "cell_type": "markdown",
   "id": "92bdcaa2",
   "metadata": {},
   "source": [
    "# 3.2 Renombrar una columna"
   ]
  },
  {
   "cell_type": "code",
   "execution_count": 10,
   "id": "84485998",
   "metadata": {},
   "outputs": [
    {
     "name": "stdout",
     "output_type": "stream",
     "text": [
      "+--------------------+--------------------+--------------+--------------+--------------+\n",
      "|                ST_1|      Series_title_2|Series_title_3|Series_title_4|Series_title_5|\n",
      "+--------------------+--------------------+--------------+--------------+--------------+\n",
      "|Sales (operating ...|Forestry and Logging|Current prices|    Unadjusted|          null|\n",
      "|Sales (operating ...|Forestry and Logging|Current prices|    Unadjusted|          null|\n",
      "|Sales (operating ...|Forestry and Logging|Current prices|    Unadjusted|          null|\n",
      "|Sales (operating ...|Forestry and Logging|Current prices|    Unadjusted|          null|\n",
      "|Sales (operating ...|Forestry and Logging|Current prices|    Unadjusted|          null|\n",
      "+--------------------+--------------------+--------------+--------------+--------------+\n",
      "only showing top 5 rows\n",
      "\n"
     ]
    }
   ],
   "source": [
    "df_sel.withColumnRenamed('Series_title_1', 'ST_1').show(5)"
   ]
  },
  {
   "cell_type": "markdown",
   "id": "8247ab15",
   "metadata": {},
   "source": [
    "# 3.3 Ordenar DF"
   ]
  },
  {
   "cell_type": "code",
   "execution_count": 11,
   "id": "1686d19b",
   "metadata": {},
   "outputs": [
    {
     "name": "stdout",
     "output_type": "stream",
     "text": [
      "+----------+\n",
      "|Data_value|\n",
      "+----------+\n",
      "|  -398.194|\n",
      "|     -5.26|\n",
      "|   100.652|\n",
      "|  1001.875|\n",
      "|  1005.093|\n",
      "|  1006.126|\n",
      "|  1007.319|\n",
      "|  1007.684|\n",
      "|   101.353|\n",
      "|   101.504|\n",
      "+----------+\n",
      "only showing top 10 rows\n",
      "\n"
     ]
    }
   ],
   "source": [
    "# en forma ascendente\n",
    "\n",
    "df.sort('Data_value')[['Data_value']].show(10)"
   ]
  },
  {
   "cell_type": "code",
   "execution_count": 12,
   "id": "1c8c6cf3",
   "metadata": {},
   "outputs": [],
   "source": [
    "# en forma descendente\n",
    "\n",
    "from pyspark.sql import functions as F"
   ]
  },
  {
   "cell_type": "code",
   "execution_count": 13,
   "id": "4a0d6405",
   "metadata": {},
   "outputs": [
    {
     "name": "stdout",
     "output_type": "stream",
     "text": [
      "+----------+\n",
      "|Data_value|\n",
      "+----------+\n",
      "|   998.124|\n",
      "|  9979.557|\n",
      "|   997.972|\n",
      "|   997.046|\n",
      "|   991.864|\n",
      "|   991.021|\n",
      "|    99.474|\n",
      "|   989.697|\n",
      "|    988.82|\n",
      "|   987.553|\n",
      "+----------+\n",
      "only showing top 10 rows\n",
      "\n"
     ]
    }
   ],
   "source": [
    "df.sort(F.desc(\"Data_value\"))[['Data_value']].show(10)"
   ]
  },
  {
   "cell_type": "markdown",
   "id": "165b6fe4",
   "metadata": {},
   "source": [
    "# 3.4 Cambiar el tipo de la columna"
   ]
  },
  {
   "cell_type": "code",
   "execution_count": 15,
   "id": "7f86ed06",
   "metadata": {},
   "outputs": [],
   "source": [
    "from pyspark.sql.types import DoubleType, IntegerType, StringType"
   ]
  },
  {
   "cell_type": "code",
   "execution_count": 16,
   "id": "95da3f3d",
   "metadata": {},
   "outputs": [],
   "source": [
    "df = df.withColumn('Data_value', F.col('Data_value').cast(DoubleType()))"
   ]
  },
  {
   "cell_type": "code",
   "execution_count": 17,
   "id": "830c5ef1",
   "metadata": {},
   "outputs": [
    {
     "name": "stdout",
     "output_type": "stream",
     "text": [
      "+----------------+-------+----------+----------+------+-------+---------+--------------------+--------------------+--------------------+--------------------+--------------+--------------+--------------+\n",
      "|Series_reference| Period|Data_value|Suppressed|STATUS|  UNITS|Magnitude|             Subject|               Group|      Series_title_1|      Series_title_2|Series_title_3|Series_title_4|Series_title_5|\n",
      "+----------------+-------+----------+----------+------+-------+---------+--------------------+--------------------+--------------------+--------------------+--------------+--------------+--------------+\n",
      "|   BDCQ.SF1AA2CA|2016.06|  1116.386|      null|     F|Dollars|        6|Business Data Col...|Industry by finan...|Sales (operating ...|Forestry and Logging|Current prices|    Unadjusted|          null|\n",
      "|   BDCQ.SF1AA2CA|2016.09|  1070.874|      null|     F|Dollars|        6|Business Data Col...|Industry by finan...|Sales (operating ...|Forestry and Logging|Current prices|    Unadjusted|          null|\n",
      "|   BDCQ.SF1AA2CA|2016.12|  1054.408|      null|     F|Dollars|        6|Business Data Col...|Industry by finan...|Sales (operating ...|Forestry and Logging|Current prices|    Unadjusted|          null|\n",
      "|   BDCQ.SF1AA2CA|2017.03|  1010.665|      null|     F|Dollars|        6|Business Data Col...|Industry by finan...|Sales (operating ...|Forestry and Logging|Current prices|    Unadjusted|          null|\n",
      "|   BDCQ.SF1AA2CA|2017.06|    1233.7|      null|     F|Dollars|        6|Business Data Col...|Industry by finan...|Sales (operating ...|Forestry and Logging|Current prices|    Unadjusted|          null|\n",
      "+----------------+-------+----------+----------+------+-------+---------+--------------------+--------------------+--------------------+--------------------+--------------+--------------+--------------+\n",
      "only showing top 5 rows\n",
      "\n"
     ]
    }
   ],
   "source": [
    "df.show(5)"
   ]
  },
  {
   "cell_type": "code",
   "execution_count": 18,
   "id": "8ab6b064",
   "metadata": {},
   "outputs": [
    {
     "name": "stdout",
     "output_type": "stream",
     "text": [
      "root\n",
      " |-- Series_reference: string (nullable = true)\n",
      " |-- Period: string (nullable = true)\n",
      " |-- Data_value: double (nullable = true)\n",
      " |-- Suppressed: string (nullable = true)\n",
      " |-- STATUS: string (nullable = true)\n",
      " |-- UNITS: string (nullable = true)\n",
      " |-- Magnitude: string (nullable = true)\n",
      " |-- Subject: string (nullable = true)\n",
      " |-- Group: string (nullable = true)\n",
      " |-- Series_title_1: string (nullable = true)\n",
      " |-- Series_title_2: string (nullable = true)\n",
      " |-- Series_title_3: string (nullable = true)\n",
      " |-- Series_title_4: string (nullable = true)\n",
      " |-- Series_title_5: string (nullable = true)\n",
      "\n"
     ]
    }
   ],
   "source": [
    "df.printSchema()"
   ]
  },
  {
   "cell_type": "code",
   "execution_count": 21,
   "id": "a5142e62",
   "metadata": {},
   "outputs": [
    {
     "name": "stdout",
     "output_type": "stream",
     "text": [
      "+----------+\n",
      "|Data_value|\n",
      "+----------+\n",
      "|  -398.194|\n",
      "|     -5.26|\n",
      "|     8.274|\n",
      "|     8.413|\n",
      "|     9.411|\n",
      "|     21.14|\n",
      "|    22.619|\n",
      "|    23.376|\n",
      "|    24.071|\n",
      "|    28.332|\n",
      "+----------+\n",
      "only showing top 10 rows\n",
      "\n"
     ]
    }
   ],
   "source": [
    "df.sort('Data_value')[['Data_value']].show(10)"
   ]
  },
  {
   "cell_type": "markdown",
   "id": "a5012c2a",
   "metadata": {},
   "source": [
    "## 3.5 Aplicar filtros"
   ]
  },
  {
   "cell_type": "code",
   "execution_count": 23,
   "id": "74e6d507",
   "metadata": {},
   "outputs": [],
   "source": [
    "df_filter = df.filter(df.Data_value > 100)"
   ]
  },
  {
   "cell_type": "code",
   "execution_count": 24,
   "id": "e18e90cc",
   "metadata": {},
   "outputs": [
    {
     "name": "stdout",
     "output_type": "stream",
     "text": [
      "+----------------+-------+----------+----------+------+-------+---------+--------------------+--------------------+--------------------+--------------------+--------------+--------------+--------------+\n",
      "|Series_reference| Period|Data_value|Suppressed|STATUS|  UNITS|Magnitude|             Subject|               Group|      Series_title_1|      Series_title_2|Series_title_3|Series_title_4|Series_title_5|\n",
      "+----------------+-------+----------+----------+------+-------+---------+--------------------+--------------------+--------------------+--------------------+--------------+--------------+--------------+\n",
      "|   BDCQ.SF1AA2CA|2016.06|  1116.386|      null|     F|Dollars|        6|Business Data Col...|Industry by finan...|Sales (operating ...|Forestry and Logging|Current prices|    Unadjusted|          null|\n",
      "|   BDCQ.SF1AA2CA|2016.09|  1070.874|      null|     F|Dollars|        6|Business Data Col...|Industry by finan...|Sales (operating ...|Forestry and Logging|Current prices|    Unadjusted|          null|\n",
      "|   BDCQ.SF1AA2CA|2016.12|  1054.408|      null|     F|Dollars|        6|Business Data Col...|Industry by finan...|Sales (operating ...|Forestry and Logging|Current prices|    Unadjusted|          null|\n",
      "|   BDCQ.SF1AA2CA|2017.03|  1010.665|      null|     F|Dollars|        6|Business Data Col...|Industry by finan...|Sales (operating ...|Forestry and Logging|Current prices|    Unadjusted|          null|\n",
      "|   BDCQ.SF1AA2CA|2017.06|    1233.7|      null|     F|Dollars|        6|Business Data Col...|Industry by finan...|Sales (operating ...|Forestry and Logging|Current prices|    Unadjusted|          null|\n",
      "+----------------+-------+----------+----------+------+-------+---------+--------------------+--------------------+--------------------+--------------------+--------------+--------------+--------------+\n",
      "only showing top 5 rows\n",
      "\n"
     ]
    }
   ],
   "source": [
    "df_filter.show(5)"
   ]
  },
  {
   "cell_type": "code",
   "execution_count": 25,
   "id": "f201867d",
   "metadata": {},
   "outputs": [
    {
     "data": {
      "text/plain": [
       "(1936, 1838)"
      ]
     },
     "execution_count": 25,
     "metadata": {},
     "output_type": "execute_result"
    }
   ],
   "source": [
    "df.count(), df_filter.count()"
   ]
  },
  {
   "cell_type": "code",
   "execution_count": 27,
   "id": "5cd6b6fa",
   "metadata": {},
   "outputs": [],
   "source": [
    "#varias columnas\n",
    "\n",
    "df_filter = df.filter((df.Data_value > 100) & (df.STATUS == 'R'))"
   ]
  },
  {
   "cell_type": "code",
   "execution_count": 28,
   "id": "b2ced091",
   "metadata": {},
   "outputs": [
    {
     "name": "stdout",
     "output_type": "stream",
     "text": [
      "+----------------+-------+----------+----------+------+-------+---------+--------------------+--------------------+--------------------+--------------------+--------------+--------------+--------------+\n",
      "|Series_reference| Period|Data_value|Suppressed|STATUS|  UNITS|Magnitude|             Subject|               Group|      Series_title_1|      Series_title_2|Series_title_3|Series_title_4|Series_title_5|\n",
      "+----------------+-------+----------+----------+------+-------+---------+--------------------+--------------------+--------------------+--------------------+--------------+--------------+--------------+\n",
      "|   BDCQ.SF1FF1CA|2019.09| 28200.644|      null|     R|Dollars|        6|Business Data Col...|Industry by finan...|Sales (operating ...|     Wholesale Trade|Current prices|    Unadjusted|          null|\n",
      "|   BDCQ.SF1FF1CA|2020.09| 29794.725|      null|     R|Dollars|        6|Business Data Col...|Industry by finan...|Sales (operating ...|     Wholesale Trade|Current prices|    Unadjusted|          null|\n",
      "|   BDCQ.SF1II1CA|2016.06|  7024.368|      null|     R|Dollars|        6|Business Data Col...|Industry by finan...|Sales (operating ...|Transport, Postal...|Current prices|    Unadjusted|          null|\n",
      "|   BDCQ.SF1II1CA|2016.09|  7233.169|      null|     R|Dollars|        6|Business Data Col...|Industry by finan...|Sales (operating ...|Transport, Postal...|Current prices|    Unadjusted|          null|\n",
      "|   BDCQ.SF1MN1CA|2020.09| 11440.003|      null|     R|Dollars|        6|Business Data Col...|Industry by finan...|Sales (operating ...|Professional, Sci...|Current prices|    Unadjusted|          null|\n",
      "+----------------+-------+----------+----------+------+-------+---------+--------------------+--------------------+--------------------+--------------------+--------------+--------------+--------------+\n",
      "only showing top 5 rows\n",
      "\n"
     ]
    }
   ],
   "source": [
    "df_filter.show(5)"
   ]
  },
  {
   "cell_type": "code",
   "execution_count": 29,
   "id": "9c74f6f6",
   "metadata": {},
   "outputs": [
    {
     "data": {
      "text/plain": [
       "(1936, 20)"
      ]
     },
     "execution_count": 29,
     "metadata": {},
     "output_type": "execute_result"
    }
   ],
   "source": [
    "df.count(), df_filter.count()"
   ]
  },
  {
   "cell_type": "markdown",
   "id": "c0f1d5eb",
   "metadata": {},
   "source": [
    "## 3.6 Separación de una columna (split)"
   ]
  },
  {
   "cell_type": "code",
   "execution_count": 30,
   "id": "21308ff2",
   "metadata": {},
   "outputs": [],
   "source": [
    "df_year = df\\\n",
    ".withColumn('Year', F.split('Period', '\\.')[0].cast(IntegerType()))\\\n",
    ".withColumn('Month', F.split('Period', '\\.')[1].cast(IntegerType()))"
   ]
  },
  {
   "cell_type": "code",
   "execution_count": 31,
   "id": "a6ab7d57",
   "metadata": {},
   "outputs": [
    {
     "name": "stdout",
     "output_type": "stream",
     "text": [
      "+----------------+-------+----------+----------+------+-------+---------+--------------------+--------------------+--------------------+--------------------+--------------+--------------+--------------+----+-----+\n",
      "|Series_reference| Period|Data_value|Suppressed|STATUS|  UNITS|Magnitude|             Subject|               Group|      Series_title_1|      Series_title_2|Series_title_3|Series_title_4|Series_title_5|Year|Month|\n",
      "+----------------+-------+----------+----------+------+-------+---------+--------------------+--------------------+--------------------+--------------------+--------------+--------------+--------------+----+-----+\n",
      "|   BDCQ.SF1AA2CA|2016.06|  1116.386|      null|     F|Dollars|        6|Business Data Col...|Industry by finan...|Sales (operating ...|Forestry and Logging|Current prices|    Unadjusted|          null|2016|    6|\n",
      "|   BDCQ.SF1AA2CA|2016.09|  1070.874|      null|     F|Dollars|        6|Business Data Col...|Industry by finan...|Sales (operating ...|Forestry and Logging|Current prices|    Unadjusted|          null|2016|    9|\n",
      "|   BDCQ.SF1AA2CA|2016.12|  1054.408|      null|     F|Dollars|        6|Business Data Col...|Industry by finan...|Sales (operating ...|Forestry and Logging|Current prices|    Unadjusted|          null|2016|   12|\n",
      "|   BDCQ.SF1AA2CA|2017.03|  1010.665|      null|     F|Dollars|        6|Business Data Col...|Industry by finan...|Sales (operating ...|Forestry and Logging|Current prices|    Unadjusted|          null|2017|    3|\n",
      "|   BDCQ.SF1AA2CA|2017.06|    1233.7|      null|     F|Dollars|        6|Business Data Col...|Industry by finan...|Sales (operating ...|Forestry and Logging|Current prices|    Unadjusted|          null|2017|    6|\n",
      "+----------------+-------+----------+----------+------+-------+---------+--------------------+--------------------+--------------------+--------------------+--------------+--------------+--------------+----+-----+\n",
      "only showing top 5 rows\n",
      "\n"
     ]
    }
   ],
   "source": [
    "df_year.show(5)"
   ]
  },
  {
   "cell_type": "code",
   "execution_count": 32,
   "id": "6b1e75d3",
   "metadata": {},
   "outputs": [
    {
     "name": "stdout",
     "output_type": "stream",
     "text": [
      "root\n",
      " |-- Series_reference: string (nullable = true)\n",
      " |-- Period: string (nullable = true)\n",
      " |-- Data_value: double (nullable = true)\n",
      " |-- Suppressed: string (nullable = true)\n",
      " |-- STATUS: string (nullable = true)\n",
      " |-- UNITS: string (nullable = true)\n",
      " |-- Magnitude: string (nullable = true)\n",
      " |-- Subject: string (nullable = true)\n",
      " |-- Group: string (nullable = true)\n",
      " |-- Series_title_1: string (nullable = true)\n",
      " |-- Series_title_2: string (nullable = true)\n",
      " |-- Series_title_3: string (nullable = true)\n",
      " |-- Series_title_4: string (nullable = true)\n",
      " |-- Series_title_5: string (nullable = true)\n",
      " |-- Year: integer (nullable = true)\n",
      " |-- Month: integer (nullable = true)\n",
      "\n"
     ]
    }
   ],
   "source": [
    "df_year.printSchema()"
   ]
  },
  {
   "cell_type": "code",
   "execution_count": null,
   "id": "24e45257",
   "metadata": {},
   "outputs": [],
   "source": []
  }
 ],
 "metadata": {
  "kernelspec": {
   "display_name": "Python 3 (ipykernel)",
   "language": "python",
   "name": "python3"
  },
  "language_info": {
   "codemirror_mode": {
    "name": "ipython",
    "version": 3
   },
   "file_extension": ".py",
   "mimetype": "text/x-python",
   "name": "python",
   "nbconvert_exporter": "python",
   "pygments_lexer": "ipython3",
   "version": "3.9.16"
  }
 },
 "nbformat": 4,
 "nbformat_minor": 5
}
