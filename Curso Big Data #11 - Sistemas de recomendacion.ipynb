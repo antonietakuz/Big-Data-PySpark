{
 "cells": [
  {
   "cell_type": "markdown",
   "id": "e94a22c4",
   "metadata": {},
   "source": [
    "# Curso Big Data #11 - Sistema de recomendacion"
   ]
  },
  {
   "cell_type": "markdown",
   "id": "60839201",
   "metadata": {},
   "source": [
    "#### 1. Creamos una SparkSession"
   ]
  },
  {
   "cell_type": "code",
   "execution_count": 1,
   "id": "11a191b4",
   "metadata": {},
   "outputs": [],
   "source": [
    "from pyspark.sql import SparkSession\n",
    "spark = SparkSession.builder.appName('Recommendation_System').getOrCreate()"
   ]
  },
  {
   "cell_type": "markdown",
   "id": "06a0084b",
   "metadata": {},
   "source": [
    "#### 2. Importamos el data set"
   ]
  },
  {
   "cell_type": "code",
   "execution_count": 2,
   "id": "de07290c",
   "metadata": {},
   "outputs": [],
   "source": [
    "df = spark.read.csv('C:/Users/pc/pruebas/movielens_ratings.csv', inferSchema=True, header=True)"
   ]
  },
  {
   "cell_type": "code",
   "execution_count": 4,
   "id": "70ac0f1b",
   "metadata": {},
   "outputs": [
    {
     "name": "stdout",
     "output_type": "stream",
     "text": [
      "+-------+------+------+\n",
      "|movieId|rating|userId|\n",
      "+-------+------+------+\n",
      "|      2|   3.0|     0|\n",
      "|      3|   1.0|     0|\n",
      "|      5|   2.0|     0|\n",
      "|      9|   4.0|     0|\n",
      "|     11|   1.0|     0|\n",
      "+-------+------+------+\n",
      "only showing top 5 rows\n",
      "\n"
     ]
    }
   ],
   "source": [
    "df.show(5)"
   ]
  },
  {
   "cell_type": "code",
   "execution_count": 5,
   "id": "c4ce9cb3",
   "metadata": {},
   "outputs": [
    {
     "name": "stdout",
     "output_type": "stream",
     "text": [
      "+-------+------------------+------------------+------------------+\n",
      "|summary|           movieId|            rating|            userId|\n",
      "+-------+------------------+------------------+------------------+\n",
      "|  count|              1501|              1501|              1501|\n",
      "|   mean| 49.40572951365756|1.7741505662891406|14.383744170552964|\n",
      "| stddev|28.937034065088994| 1.187276166124803| 8.591040424293272|\n",
      "|    min|                 0|               1.0|                 0|\n",
      "|    max|                99|               5.0|                29|\n",
      "+-------+------------------+------------------+------------------+\n",
      "\n"
     ]
    }
   ],
   "source": [
    "df.describe().show()"
   ]
  },
  {
   "cell_type": "markdown",
   "id": "9fc58ff5",
   "metadata": {},
   "source": [
    "#### 3. Splitting el dataset"
   ]
  },
  {
   "cell_type": "code",
   "execution_count": 6,
   "id": "5cc24545",
   "metadata": {},
   "outputs": [],
   "source": [
    "training_set, test_set = df.randomSplit([0.8, 0.2])"
   ]
  },
  {
   "cell_type": "markdown",
   "id": "806322cc",
   "metadata": {},
   "source": [
    "#### 4. Creamos el modelo"
   ]
  },
  {
   "cell_type": "code",
   "execution_count": 7,
   "id": "7d9e89d5",
   "metadata": {},
   "outputs": [],
   "source": [
    "#Factorización de matrices de mínimos cuadrados alternos (ALS).\n",
    "\n",
    "#ALS intenta estimar la matriz de calificaciones R como el producto de dos matrices de rango inferior, \n",
    "#X e Y, es decir, X * Yt = R. Por lo general, estas aproximaciones se denominan matrices de \"factor\". \n",
    "#El enfoque general es iterativo. Durante cada iteración, una de las matrices factoriales se mantiene constante, \n",
    "#mientras que la otra se resuelve utilizando mínimos cuadrados. \n",
    "#La matriz de factores recién resuelta se mantiene constante mientras se resuelve para la otra matriz de factores.\n",
    "\n",
    "from pyspark.ml.recommendation import ALS\n",
    "\n",
    "recommender = ALS(userCol='userId', ratingCol='rating', itemCol='movieId')\n",
    "recommender = recommender.fit(training_set)"
   ]
  },
  {
   "cell_type": "markdown",
   "id": "eb05a9f5",
   "metadata": {},
   "source": [
    "#### 5. Predecimos usando el test set"
   ]
  },
  {
   "cell_type": "code",
   "execution_count": 8,
   "id": "544e5645",
   "metadata": {},
   "outputs": [],
   "source": [
    "preds = recommender.transform(test_set)"
   ]
  },
  {
   "cell_type": "code",
   "execution_count": 10,
   "id": "eb9c0ca5",
   "metadata": {},
   "outputs": [
    {
     "name": "stdout",
     "output_type": "stream",
     "text": [
      "+-------+------+------+----------+\n",
      "|movieId|rating|userId|prediction|\n",
      "+-------+------+------+----------+\n",
      "|      1|   1.0|     5| 1.7388971|\n",
      "|      1|   1.0|     7| 1.3713032|\n",
      "|      2|   3.0|     6| 1.1975499|\n",
      "|      2|   2.0|     7| 1.7239631|\n",
      "|      0|   3.0|    28|  2.312674|\n",
      "+-------+------+------+----------+\n",
      "only showing top 5 rows\n",
      "\n"
     ]
    }
   ],
   "source": [
    "preds.show(5)"
   ]
  },
  {
   "cell_type": "markdown",
   "id": "ca9b278e",
   "metadata": {},
   "source": [
    "#### 6. Evaluamos el model"
   ]
  },
  {
   "cell_type": "code",
   "execution_count": 11,
   "id": "af0ebc9a",
   "metadata": {},
   "outputs": [
    {
     "data": {
      "text/plain": [
       "0.954289889758269"
      ]
     },
     "execution_count": 11,
     "metadata": {},
     "output_type": "execute_result"
    }
   ],
   "source": [
    "from pyspark.ml.evaluation import RegressionEvaluator\n",
    "\n",
    "evaluator = RegressionEvaluator(labelCol='rating')\n",
    "evaluator.evaluate(preds)"
   ]
  },
  {
   "cell_type": "markdown",
   "id": "cc20a959",
   "metadata": {},
   "source": [
    "#### 7. Hacemos la recomendacion"
   ]
  },
  {
   "cell_type": "code",
   "execution_count": 17,
   "id": "11ce0b2f",
   "metadata": {},
   "outputs": [
    {
     "name": "stdout",
     "output_type": "stream",
     "text": [
      "+-------+------+------+\n",
      "|movieId|rating|userId|\n",
      "+-------+------+------+\n",
      "|      0|   1.0|    26|\n",
      "|      0|   3.0|    28|\n",
      "|      1|   1.0|     5|\n",
      "|      1|   1.0|     7|\n",
      "|      2|   2.0|     7|\n",
      "+-------+------+------+\n",
      "only showing top 5 rows\n",
      "\n"
     ]
    }
   ],
   "source": [
    "test_set.show(5)"
   ]
  },
  {
   "cell_type": "code",
   "execution_count": 14,
   "id": "28e81813",
   "metadata": {},
   "outputs": [
    {
     "name": "stdout",
     "output_type": "stream",
     "text": [
      "+-------+------+------+\n",
      "|movieId|rating|userId|\n",
      "+-------+------+------+\n",
      "|      4|   1.0|    23|\n",
      "|     25|   1.0|    23|\n",
      "|     30|   4.0|    23|\n",
      "|     32|   5.0|    23|\n",
      "|     38|   1.0|    23|\n",
      "|     50|   4.0|    23|\n",
      "|     53|   1.0|    23|\n",
      "|     55|   5.0|    23|\n",
      "|     59|   1.0|    23|\n",
      "|     69|   1.0|    23|\n",
      "|     83|   1.0|    23|\n",
      "+-------+------+------+\n",
      "\n"
     ]
    }
   ],
   "source": [
    "test_set.filter(test_set['userId'] == 23).show()"
   ]
  },
  {
   "cell_type": "code",
   "execution_count": 15,
   "id": "aca2552b",
   "metadata": {},
   "outputs": [],
   "source": [
    "single_user = test_set.filter(test_set['userId'] == 23).select(['userId', 'movieId'])"
   ]
  },
  {
   "cell_type": "code",
   "execution_count": 19,
   "id": "b5094f55",
   "metadata": {},
   "outputs": [
    {
     "name": "stdout",
     "output_type": "stream",
     "text": [
      "+------+-------+\n",
      "|userId|movieId|\n",
      "+------+-------+\n",
      "|    23|      4|\n",
      "|    23|     25|\n",
      "|    23|     30|\n",
      "|    23|     32|\n",
      "|    23|     38|\n",
      "+------+-------+\n",
      "only showing top 5 rows\n",
      "\n"
     ]
    }
   ],
   "source": [
    "single_user.show(5)"
   ]
  },
  {
   "cell_type": "code",
   "execution_count": 20,
   "id": "409faa62",
   "metadata": {},
   "outputs": [],
   "source": [
    "recommendations = recommender.transform(single_user)"
   ]
  },
  {
   "cell_type": "code",
   "execution_count": 21,
   "id": "eceec1f8",
   "metadata": {},
   "outputs": [
    {
     "name": "stdout",
     "output_type": "stream",
     "text": [
      "+------+-------+----------+\n",
      "|userId|movieId|prediction|\n",
      "+------+-------+----------+\n",
      "|    23|     32| 5.0406437|\n",
      "|    23|     55| 3.9250937|\n",
      "|    23|     50|  3.866125|\n",
      "|    23|     38| 2.3600922|\n",
      "|    23|     69| 2.3459716|\n",
      "|    23|     30| 2.0719569|\n",
      "|    23|     83| 1.3872185|\n",
      "|    23|     59| 1.2001252|\n",
      "|    23|      4| 1.1434418|\n",
      "|    23|     53| 0.8110362|\n",
      "|    23|     25|0.12990454|\n",
      "+------+-------+----------+\n",
      "\n"
     ]
    }
   ],
   "source": [
    "recommendations.orderBy('prediction', ascending=False).show()"
   ]
  },
  {
   "cell_type": "code",
   "execution_count": null,
   "id": "11af7ed0",
   "metadata": {},
   "outputs": [],
   "source": []
  }
 ],
 "metadata": {
  "kernelspec": {
   "display_name": "Python 3 (ipykernel)",
   "language": "python",
   "name": "python3"
  },
  "language_info": {
   "codemirror_mode": {
    "name": "ipython",
    "version": 3
   },
   "file_extension": ".py",
   "mimetype": "text/x-python",
   "name": "python",
   "nbconvert_exporter": "python",
   "pygments_lexer": "ipython3",
   "version": "3.9.16"
  }
 },
 "nbformat": 4,
 "nbformat_minor": 5
}
