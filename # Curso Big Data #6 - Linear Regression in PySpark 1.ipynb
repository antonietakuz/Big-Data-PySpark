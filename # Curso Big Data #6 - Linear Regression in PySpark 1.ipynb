{
 "cells": [
  {
   "cell_type": "markdown",
   "id": "722dd165",
   "metadata": {},
   "source": [
    "# Curso Big Data #7 - Linear Regression in PySpark 1"
   ]
  },
  {
   "cell_type": "code",
   "execution_count": 1,
   "id": "4652ab8a",
   "metadata": {},
   "outputs": [],
   "source": [
    "from pyspark.sql import SparkSession\n",
    "spark = SparkSession.builder.appName('Simple_Linear_Regression').getOrCreate()"
   ]
  },
  {
   "cell_type": "markdown",
   "id": "d35927aa",
   "metadata": {},
   "source": [
    "#### 1. Importamos el cvs"
   ]
  },
  {
   "cell_type": "code",
   "execution_count": 2,
   "id": "a135f310",
   "metadata": {},
   "outputs": [],
   "source": [
    "\n",
    "df = spark.read.csv('C:/Users/pc/pruebas/Ecommerce_Customers.csv', inferSchema='True', header='True')"
   ]
  },
  {
   "cell_type": "markdown",
   "id": "6f6f2384",
   "metadata": {},
   "source": [
    "#### 2. Load los datos"
   ]
  },
  {
   "cell_type": "code",
   "execution_count": 5,
   "id": "21b064db",
   "metadata": {},
   "outputs": [
    {
     "name": "stdout",
     "output_type": "stream",
     "text": [
      "root\n",
      " |-- Email: string (nullable = true)\n",
      " |-- Address: string (nullable = true)\n",
      " |-- Avatar: string (nullable = true)\n",
      " |-- Avg Session Length: double (nullable = true)\n",
      " |-- Time on App: double (nullable = true)\n",
      " |-- Time on Website: double (nullable = true)\n",
      " |-- Length of Membership: double (nullable = true)\n",
      " |-- Yearly Amount Spent: double (nullable = true)\n",
      "\n",
      "+--------------------+--------------------+----------------+------------------+------------------+------------------+--------------------+-------------------+\n",
      "|               Email|             Address|          Avatar|Avg Session Length|       Time on App|   Time on Website|Length of Membership|Yearly Amount Spent|\n",
      "+--------------------+--------------------+----------------+------------------+------------------+------------------+--------------------+-------------------+\n",
      "|mstephenson@ferna...|835 Frank TunnelW...|          Violet| 34.49726772511229| 12.65565114916675| 39.57766801952616|  4.0826206329529615|  587.9510539684005|\n",
      "|   hduke@hotmail.com|4547 Archer Commo...|       DarkGreen| 31.92627202636016|11.109460728682564|37.268958868297744|    2.66403418213262|  392.2049334443264|\n",
      "|    pallen@yahoo.com|24645 Valerie Uni...|          Bisque|33.000914755642675|11.330278057777512|37.110597442120856|   4.104543202376424| 487.54750486747207|\n",
      "|riverarebecca@gma...|1414 David Throug...|     SaddleBrown| 34.30555662975554|13.717513665142507| 36.72128267790313|   3.120178782748092|  581.8523440352177|\n",
      "|mstephens@davidso...|14023 Rodriguez P...|MediumAquaMarine| 33.33067252364639|12.795188551078114| 37.53665330059473|   4.446308318351434|  599.4060920457634|\n",
      "+--------------------+--------------------+----------------+------------------+------------------+------------------+--------------------+-------------------+\n",
      "only showing top 5 rows\n",
      "\n"
     ]
    }
   ],
   "source": [
    "df.printSchema()\n",
    "\n",
    "df.show(5)"
   ]
  },
  {
   "cell_type": "code",
   "execution_count": 6,
   "id": "6ddbcea0",
   "metadata": {},
   "outputs": [],
   "source": [
    "from pyspark.ml.linalg import Vectors\n",
    "from pyspark.ml.feature import VectorAssembler"
   ]
  },
  {
   "cell_type": "code",
   "execution_count": 8,
   "id": "1e961f8c",
   "metadata": {},
   "outputs": [
    {
     "data": {
      "text/plain": [
       "['Avg Session Length',\n",
       " 'Time on App',\n",
       " 'Time on Website',\n",
       " 'Length of Membership']"
      ]
     },
     "execution_count": 8,
     "metadata": {},
     "output_type": "execute_result"
    }
   ],
   "source": [
    "#Trae las columnas desde atras\n",
    "df.columns[3:-1]"
   ]
  },
  {
   "cell_type": "code",
   "execution_count": 7,
   "id": "38919c23",
   "metadata": {},
   "outputs": [],
   "source": [
    "assembler = VectorAssembler(inputCols=df.columns[3:-1],outputCol='features')"
   ]
  },
  {
   "cell_type": "code",
   "execution_count": 8,
   "id": "27ef0001",
   "metadata": {},
   "outputs": [],
   "source": [
    "final_df = assembler.transform(df).select('features', 'Yearly Amount Spent')"
   ]
  },
  {
   "cell_type": "code",
   "execution_count": 9,
   "id": "cad654e4",
   "metadata": {},
   "outputs": [
    {
     "name": "stdout",
     "output_type": "stream",
     "text": [
      "+--------------------+-------------------+\n",
      "|            features|Yearly Amount Spent|\n",
      "+--------------------+-------------------+\n",
      "|[34.4972677251122...|  587.9510539684005|\n",
      "|[31.9262720263601...|  392.2049334443264|\n",
      "|[33.0009147556426...| 487.54750486747207|\n",
      "|[34.3055566297555...|  581.8523440352177|\n",
      "|[33.3306725236463...|  599.4060920457634|\n",
      "|[33.8710378793419...|   637.102447915074|\n",
      "|[32.0215955013870...|  521.5721747578274|\n",
      "|[32.7391429383803...|  549.9041461052942|\n",
      "|[33.9877728956856...|  570.2004089636196|\n",
      "|[31.9365486184489...|  427.1993848953282|\n",
      "|[33.9925727749537...|  492.6060127179966|\n",
      "|[33.8793608248049...|  522.3374046069357|\n",
      "|[29.5324289670579...|  408.6403510726275|\n",
      "|[33.1903340437226...|  573.4158673313865|\n",
      "|[32.3879758531538...|  470.4527333009554|\n",
      "|[30.7377203726281...|  461.7807421962299|\n",
      "|[32.1253868972878...| 457.84769594494855|\n",
      "|[32.3388993230671...| 407.70454754954415|\n",
      "|[32.1878120459321...|  452.3156754800354|\n",
      "|[32.6178560628234...|   605.061038804892|\n",
      "+--------------------+-------------------+\n",
      "only showing top 20 rows\n",
      "\n"
     ]
    }
   ],
   "source": [
    "final_df.show()"
   ]
  },
  {
   "cell_type": "markdown",
   "id": "2ec42cf1",
   "metadata": {},
   "source": [
    "#### 4. Separar los datos en entrenamiento y prueba\n",
    "Divide aleatoriamente este DataFrame con los pesos proporcionados.Parámetros:\n",
    "lista de pesos y lista de dobles como pesos con los que dividir el DataFrame. Los pesos se normalizarán si no suman 1,0."
   ]
  },
  {
   "cell_type": "code",
   "execution_count": 11,
   "id": "3544842a",
   "metadata": {},
   "outputs": [],
   "source": [
    "train_data, test_data = final_df.randomSplit([0.7, 0.3])"
   ]
  },
  {
   "cell_type": "code",
   "execution_count": 12,
   "id": "544bf838",
   "metadata": {},
   "outputs": [
    {
     "name": "stdout",
     "output_type": "stream",
     "text": [
      "+-------+-------------------+\n",
      "|summary|Yearly Amount Spent|\n",
      "+-------+-------------------+\n",
      "|  count|                350|\n",
      "|   mean| 501.09543622925236|\n",
      "| stddev|  74.55397434549616|\n",
      "|    min|  275.9184206503857|\n",
      "|    max|  725.5848140556806|\n",
      "+-------+-------------------+\n",
      "\n"
     ]
    }
   ],
   "source": [
    "train_data.describe().show()"
   ]
  },
  {
   "cell_type": "code",
   "execution_count": 13,
   "id": "03239b1a",
   "metadata": {},
   "outputs": [
    {
     "name": "stdout",
     "output_type": "stream",
     "text": [
      "+-------+-------------------+\n",
      "|summary|Yearly Amount Spent|\n",
      "+-------+-------------------+\n",
      "|  count|                150|\n",
      "|   mean| 495.15744299371414|\n",
      "| stddev|  89.57690219886886|\n",
      "|    min| 256.67058229005585|\n",
      "|    max|  765.5184619388373|\n",
      "+-------+-------------------+\n",
      "\n"
     ]
    }
   ],
   "source": [
    "test_data.describe().show()"
   ]
  },
  {
   "cell_type": "markdown",
   "id": "b861c89b",
   "metadata": {},
   "source": [
    "#### 5. Creamos el objeto para la regresion lineal"
   ]
  },
  {
   "cell_type": "code",
   "execution_count": 14,
   "id": "ea4e86d9",
   "metadata": {},
   "outputs": [],
   "source": [
    "from pyspark.ml.regression import LinearRegression\n",
    "lr = LinearRegression(featuresCol='features', labelCol='Yearly Amount Spent', predictionCol='prediction')\n",
    "lr = lr.fit(train_data)"
   ]
  },
  {
   "cell_type": "markdown",
   "id": "9ebe051a",
   "metadata": {},
   "source": [
    "#### 6. Testeo de resultados"
   ]
  },
  {
   "cell_type": "code",
   "execution_count": 15,
   "id": "cf999ce5",
   "metadata": {},
   "outputs": [],
   "source": [
    "test_results = lr.evaluate(test_data)"
   ]
  },
  {
   "cell_type": "code",
   "execution_count": 16,
   "id": "9b3e559f",
   "metadata": {},
   "outputs": [
    {
     "data": {
      "text/plain": [
       "10.579107982747972"
      ]
     },
     "execution_count": 16,
     "metadata": {},
     "output_type": "execute_result"
    }
   ],
   "source": [
    "test_results.rootMeanSquaredError"
   ]
  },
  {
   "cell_type": "code",
   "execution_count": 17,
   "id": "556f9196",
   "metadata": {},
   "outputs": [
    {
     "data": {
      "text/plain": [
       "0.9859585805767769"
      ]
     },
     "execution_count": 17,
     "metadata": {},
     "output_type": "execute_result"
    }
   ],
   "source": [
    "test_results.r2"
   ]
  },
  {
   "cell_type": "code",
   "execution_count": 18,
   "id": "d3567aee",
   "metadata": {},
   "outputs": [
    {
     "name": "stdout",
     "output_type": "stream",
     "text": [
      "+-------+-------------------+\n",
      "|summary|Yearly Amount Spent|\n",
      "+-------+-------------------+\n",
      "|  count|                500|\n",
      "|   mean|  499.3140382585909|\n",
      "| stddev|   79.3147815497068|\n",
      "|    min| 256.67058229005585|\n",
      "|    max|  765.5184619388373|\n",
      "+-------+-------------------+\n",
      "\n"
     ]
    }
   ],
   "source": [
    "final_df.describe().show()"
   ]
  },
  {
   "cell_type": "code",
   "execution_count": 19,
   "id": "7a529890",
   "metadata": {},
   "outputs": [],
   "source": [
    "unlabeled_data = test_data.select('features')"
   ]
  },
  {
   "cell_type": "code",
   "execution_count": 20,
   "id": "b75c2fb2",
   "metadata": {},
   "outputs": [
    {
     "name": "stdout",
     "output_type": "stream",
     "text": [
      "+--------------------+\n",
      "|            features|\n",
      "+--------------------+\n",
      "|[30.4925366965402...|\n",
      "|[30.8162006488763...|\n",
      "|[30.9716756438877...|\n",
      "|[31.0613251567161...|\n",
      "|[31.0662181616375...|\n",
      "|[31.1695067987115...|\n",
      "|[31.2606468698795...|\n",
      "|[31.3091926408918...|\n",
      "|[31.3123495994443...|\n",
      "|[31.3584771924370...|\n",
      "|[31.3662121671876...|\n",
      "|[31.4474464941278...|\n",
      "|[31.5316044825729...|\n",
      "|[31.6098395733896...|\n",
      "|[31.6253601348306...|\n",
      "|[31.6739155032749...|\n",
      "|[31.7207699002873...|\n",
      "|[31.8124825597242...|\n",
      "|[31.9120759292006...|\n",
      "|[31.9262720263601...|\n",
      "+--------------------+\n",
      "only showing top 20 rows\n",
      "\n"
     ]
    }
   ],
   "source": [
    "unlabeled_data.show()"
   ]
  },
  {
   "cell_type": "code",
   "execution_count": 21,
   "id": "f8429d96",
   "metadata": {},
   "outputs": [],
   "source": [
    "predictions = lr.transform(unlabeled_data)"
   ]
  },
  {
   "cell_type": "code",
   "execution_count": 22,
   "id": "973d0a03",
   "metadata": {},
   "outputs": [
    {
     "name": "stdout",
     "output_type": "stream",
     "text": [
      "+--------------------+-------------------+\n",
      "|            features|Yearly Amount Spent|\n",
      "+--------------------+-------------------+\n",
      "|[30.4925366965402...|  282.4712457199145|\n",
      "|[30.8162006488763...|   266.086340948469|\n",
      "|[30.9716756438877...|  494.6386097568927|\n",
      "|[31.0613251567161...|  487.5554580579016|\n",
      "|[31.0662181616375...| 448.93329320767435|\n",
      "|[31.1695067987115...|  427.3565308022928|\n",
      "|[31.2606468698795...|  421.3266312569514|\n",
      "|[31.3091926408918...|  432.7207178399336|\n",
      "|[31.3123495994443...|  463.5914180279406|\n",
      "|[31.3584771924370...|  495.1759504494754|\n",
      "|[31.3662121671876...|  430.5888825564849|\n",
      "|[31.4474464941278...|   418.602742095224|\n",
      "|[31.5316044825729...| 436.51560572936256|\n",
      "|[31.6098395733896...| 444.54554965110816|\n",
      "|[31.6253601348306...|  376.3369007569242|\n",
      "|[31.6739155032749...|  475.7250679098812|\n",
      "|[31.7207699002873...|   538.774933478023|\n",
      "|[31.8124825597242...|  392.8103449837972|\n",
      "|[31.9120759292006...|  387.5347163057077|\n",
      "|[31.9262720263601...|  392.2049334443264|\n",
      "+--------------------+-------------------+\n",
      "only showing top 20 rows\n",
      "\n"
     ]
    }
   ],
   "source": [
    "test_data.show()"
   ]
  },
  {
   "cell_type": "code",
   "execution_count": 23,
   "id": "66f1385f",
   "metadata": {},
   "outputs": [
    {
     "name": "stdout",
     "output_type": "stream",
     "text": [
      "+--------------------+------------------+\n",
      "|            features|        prediction|\n",
      "+--------------------+------------------+\n",
      "|[30.4925366965402...|285.37331487902384|\n",
      "|[30.8162006488763...| 281.1993172152738|\n",
      "|[30.9716756438877...|486.59688129302117|\n",
      "|[31.0613251567161...| 492.1278175699513|\n",
      "|[31.0662181616375...|  460.780621905345|\n",
      "|[31.1695067987115...| 414.5608446228325|\n",
      "|[31.2606468698795...|420.15586796742514|\n",
      "|[31.3091926408918...|428.38983046476255|\n",
      "|[31.3123495994443...|444.60855001593677|\n",
      "|[31.3584771924370...|489.65914959821157|\n",
      "|[31.3662121671876...| 426.3506469716142|\n",
      "|[31.4474464941278...|426.95761228334436|\n",
      "|[31.5316044825729...|431.70195655949465|\n",
      "|[31.6098395733896...|   425.74748962224|\n",
      "|[31.6253601348306...| 379.0852229106076|\n",
      "|[31.6739155032749...| 501.3913120026534|\n",
      "|[31.7207699002873...| 546.2406380737009|\n",
      "|[31.8124825597242...|395.36463368572004|\n",
      "|[31.9120759292006...|388.40057971721603|\n",
      "|[31.9262720263601...|380.14005155659675|\n",
      "+--------------------+------------------+\n",
      "only showing top 20 rows\n",
      "\n"
     ]
    }
   ],
   "source": [
    "predictions.show()"
   ]
  },
  {
   "cell_type": "code",
   "execution_count": null,
   "id": "398ad544",
   "metadata": {},
   "outputs": [],
   "source": []
  }
 ],
 "metadata": {
  "kernelspec": {
   "display_name": "Python 3 (ipykernel)",
   "language": "python",
   "name": "python3"
  },
  "language_info": {
   "codemirror_mode": {
    "name": "ipython",
    "version": 3
   },
   "file_extension": ".py",
   "mimetype": "text/x-python",
   "name": "python",
   "nbconvert_exporter": "python",
   "pygments_lexer": "ipython3",
   "version": "3.9.16"
  }
 },
 "nbformat": 4,
 "nbformat_minor": 5
}
