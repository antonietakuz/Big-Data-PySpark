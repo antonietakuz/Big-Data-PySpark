{
 "cells": [
  {
   "cell_type": "markdown",
   "id": "67ad398d",
   "metadata": {},
   "source": [
    "# Curso Big Data #8 - Logistic Regression"
   ]
  },
  {
   "cell_type": "markdown",
   "id": "a697a7e3",
   "metadata": {},
   "source": [
    "#### 1. Inicializamos la sesion en spark"
   ]
  },
  {
   "cell_type": "code",
   "execution_count": 1,
   "id": "e7a0be2f",
   "metadata": {},
   "outputs": [],
   "source": [
    "\n",
    "from pyspark.sql import SparkSession\n",
    "spark = SparkSession.builder.appName('logistic_regression').getOrCreate()"
   ]
  },
  {
   "cell_type": "markdown",
   "id": "78fd973c",
   "metadata": {},
   "source": [
    "#### 2. Cargamos el dataset"
   ]
  },
  {
   "cell_type": "code",
   "execution_count": 2,
   "id": "28cfc728",
   "metadata": {},
   "outputs": [],
   "source": [
    "\n",
    "df = spark.read.csv('C:/Users/pc/pruebas/customer_churn.csv', inferSchema=True, header=True)\n"
   ]
  },
  {
   "cell_type": "code",
   "execution_count": 3,
   "id": "e2359580",
   "metadata": {},
   "outputs": [
    {
     "name": "stdout",
     "output_type": "stream",
     "text": [
      "+----------------+----+--------------+---------------+-----+---------+-------------------+--------------------+--------------------+-----+\n",
      "|           Names| Age|Total_Purchase|Account_Manager|Years|Num_Sites|       Onboard_date|            Location|             Company|Churn|\n",
      "+----------------+----+--------------+---------------+-----+---------+-------------------+--------------------+--------------------+-----+\n",
      "|Cameron Williams|42.0|       11066.8|              0| 7.22|      8.0|2013-08-30 07:00:40|10265 Elizabeth M...|          Harvey LLC|    1|\n",
      "|   Kevin Mueller|41.0|      11916.22|              0|  6.5|     11.0|2013-08-13 00:38:46|6157 Frank Garden...|          Wilson PLC|    1|\n",
      "|     Eric Lozano|38.0|      12884.75|              0| 6.67|     12.0|2016-06-29 06:20:07|1331 Keith Court ...|Miller, Johnson a...|    1|\n",
      "|   Phillip White|42.0|       8010.76|              0| 6.71|     10.0|2014-04-22 12:43:12|13120 Daniel Moun...|           Smith Inc|    1|\n",
      "|  Cynthia Norton|37.0|       9191.58|              0| 5.56|      9.0|2016-01-19 15:31:15|765 Tricia Row Ka...|          Love-Jones|    1|\n",
      "+----------------+----+--------------+---------------+-----+---------+-------------------+--------------------+--------------------+-----+\n",
      "only showing top 5 rows\n",
      "\n"
     ]
    }
   ],
   "source": [
    "df.show(5)"
   ]
  },
  {
   "cell_type": "code",
   "execution_count": 4,
   "id": "419bf7b5",
   "metadata": {},
   "outputs": [
    {
     "name": "stdout",
     "output_type": "stream",
     "text": [
      "+----------------+----+--------------+---------------+-----+---------+-------------------+--------------------+--------------------+-----+\n",
      "|           Names| Age|Total_Purchase|Account_Manager|Years|Num_Sites|       Onboard_date|            Location|             Company|Churn|\n",
      "+----------------+----+--------------+---------------+-----+---------+-------------------+--------------------+--------------------+-----+\n",
      "|Cameron Williams|42.0|       11066.8|              0| 7.22|      8.0|2013-08-30 07:00:40|10265 Elizabeth M...|          Harvey LLC|    1|\n",
      "|   Kevin Mueller|41.0|      11916.22|              0|  6.5|     11.0|2013-08-13 00:38:46|6157 Frank Garden...|          Wilson PLC|    1|\n",
      "|     Eric Lozano|38.0|      12884.75|              0| 6.67|     12.0|2016-06-29 06:20:07|1331 Keith Court ...|Miller, Johnson a...|    1|\n",
      "+----------------+----+--------------+---------------+-----+---------+-------------------+--------------------+--------------------+-----+\n",
      "only showing top 3 rows\n",
      "\n"
     ]
    }
   ],
   "source": [
    "df.createOrReplaceTempView(\"customer_churn\")\n",
    "\n",
    "sqlDF = spark.sql(\"SELECT * FROM customer_churn\")\n",
    "sqlDF.show(3)\n"
   ]
  },
  {
   "cell_type": "code",
   "execution_count": 5,
   "id": "9aa932ba",
   "metadata": {},
   "outputs": [
    {
     "name": "stdout",
     "output_type": "stream",
     "text": [
      "+-------+-------------+-----------------+-----------------+------------------+-----------------+------------------+--------------------+--------------------+-------------------+\n",
      "|summary|        Names|              Age|   Total_Purchase|   Account_Manager|            Years|         Num_Sites|            Location|             Company|              Churn|\n",
      "+-------+-------------+-----------------+-----------------+------------------+-----------------+------------------+--------------------+--------------------+-------------------+\n",
      "|  count|          900|              900|              900|               900|              900|               900|                 900|                 900|                900|\n",
      "|   mean|         null|41.81666666666667|10062.82403333334|0.4811111111111111| 5.27315555555555| 8.587777777777777|                null|                null|0.16666666666666666|\n",
      "| stddev|         null|6.127560416916251|2408.644531858096|0.4999208935073339|1.274449013194616|1.7648355920350969|                null|                null| 0.3728852122772358|\n",
      "|    min|   Aaron King|             22.0|            100.0|                 0|              1.0|               3.0|00103 Jeffrey Cre...|     Abbott-Thompson|                  0|\n",
      "|    max|Zachary Walsh|             65.0|         18026.01|                 1|             9.15|              14.0|Unit 9800 Box 287...|Zuniga, Clark and...|                  1|\n",
      "+-------+-------------+-----------------+-----------------+------------------+-----------------+------------------+--------------------+--------------------+-------------------+\n",
      "\n"
     ]
    }
   ],
   "source": [
    "df.describe().show()"
   ]
  },
  {
   "cell_type": "markdown",
   "id": "43bc0086",
   "metadata": {},
   "source": [
    "#### 3. Transformamos el data set para poder ser usadao en spark"
   ]
  },
  {
   "cell_type": "code",
   "execution_count": 12,
   "id": "54421dc7",
   "metadata": {},
   "outputs": [],
   "source": [
    "from pyspark.ml.feature import VectorAssembler\n",
    "assembler = VectorAssembler(inputCols=['Age', 'Total_Purchase', 'Years', 'Num_Sites'],\n",
    "                           outputCol='features')\n",
    "final_df = assembler.transform(df).select('features', 'Churn')"
   ]
  },
  {
   "cell_type": "markdown",
   "id": "c70aaa23",
   "metadata": {},
   "source": [
    "#### 4. Train test split"
   ]
  },
  {
   "cell_type": "code",
   "execution_count": 8,
   "id": "7b8c4b9e",
   "metadata": {},
   "outputs": [],
   "source": [
    "train_data, test_data = final_df.randomSplit([0.7, 0.3])"
   ]
  },
  {
   "cell_type": "markdown",
   "id": "4531f671",
   "metadata": {},
   "source": [
    "#### 5. Creating the logistic regression model"
   ]
  },
  {
   "cell_type": "code",
   "execution_count": 9,
   "id": "8323f402",
   "metadata": {},
   "outputs": [],
   "source": [
    "from pyspark.ml.classification import LogisticRegression\n",
    "classifier = LogisticRegression(featuresCol='features', labelCol='Churn', predictionCol='prediction')\n",
    "fitted_classifier = classifier.fit(train_data)"
   ]
  },
  {
   "cell_type": "markdown",
   "id": "811cac61",
   "metadata": {},
   "source": [
    "#### 6. Evaluate"
   ]
  },
  {
   "cell_type": "code",
   "execution_count": 13,
   "id": "ba2fa3e4",
   "metadata": {},
   "outputs": [
    {
     "name": "stdout",
     "output_type": "stream",
     "text": [
      "+-------+-------------------+-------------------+\n",
      "|summary|              Churn|         prediction|\n",
      "+-------+-------------------+-------------------+\n",
      "|  count|                607|                607|\n",
      "|   mean|0.16474464579901152|0.12191103789126853|\n",
      "| stddev| 0.3712558639736437| 0.3274528741849083|\n",
      "|    min|                0.0|                0.0|\n",
      "|    max|                1.0|                1.0|\n",
      "+-------+-------------------+-------------------+\n",
      "\n"
     ]
    }
   ],
   "source": [
    "summary = fitted_classifier.summary\n",
    "summary.predictions.describe().show()"
   ]
  },
  {
   "cell_type": "code",
   "execution_count": 22,
   "id": "8ff089a5",
   "metadata": {},
   "outputs": [
    {
     "name": "stdout",
     "output_type": "stream",
     "text": [
      "+-------+-------------------+-------------------+\n",
      "|summary|              Churn|         prediction|\n",
      "+-------+-------------------+-------------------+\n",
      "|  count|                293|                293|\n",
      "|   mean|0.17064846416382254|0.12286689419795221|\n",
      "| stddev| 0.3768451263941418|0.32884600951751697|\n",
      "|    min|                  0|                0.0|\n",
      "|    max|                  1|                1.0|\n",
      "+-------+-------------------+-------------------+\n",
      "\n"
     ]
    }
   ],
   "source": [
    "pred_vs_actual =fitted_classifier.evaluate(test_data)\n",
    "pred_vs_actual.predictions.describe().show()"
   ]
  },
  {
   "cell_type": "markdown",
   "id": "a527c157",
   "metadata": {},
   "source": [
    " #### 4. Evaluamos usando el testset\n"
   ]
  },
  {
   "cell_type": "code",
   "execution_count": 14,
   "id": "5b8ae9a0",
   "metadata": {},
   "outputs": [
    {
     "name": "stdout",
     "output_type": "stream",
     "text": [
      "+--------------------+-----+--------------------+--------------------+----------+\n",
      "|            features|Churn|       rawPrediction|         probability|prediction|\n",
      "+--------------------+-----+--------------------+--------------------+----------+\n",
      "|[22.0,11254.38,4....|    0|[5.20626170905429...|[0.99454776065714...|       0.0|\n",
      "|[25.0,9672.03,5.4...|    0|[4.7200791919095,...|[0.99116429310038...|       0.0|\n",
      "|[26.0,8787.39,5.4...|    1|[0.99066422373772...|[0.72921909900891...|       0.0|\n",
      "|[28.0,8670.98,3.9...|    0|[8.01847410201920...|[0.99967078626575...|       0.0|\n",
      "|[29.0,5900.78,5.5...|    0|[4.54584100136750...|[0.98950017136183...|       0.0|\n",
      "|[29.0,8688.17,5.7...|    1|[3.10409672239031...|[0.95706141489491...|       0.0|\n",
      "|[29.0,13240.01,4....|    0|[7.39812682137532...|[0.99938797598299...|       0.0|\n",
      "|[29.0,13255.05,4....|    0|[4.70356938436280...|[0.99101852748948...|       0.0|\n",
      "|[30.0,11575.37,5....|    1|[4.48552015195958...|[0.98885459674943...|       0.0|\n",
      "|[30.0,12788.37,4....|    0|[2.53507681945229...|[0.92656454281502...|       0.0|\n",
      "|[31.0,5304.6,5.29...|    0|[3.36090048648420...|[0.96645997833159...|       0.0|\n",
      "|[31.0,5387.75,6.8...|    0|[2.36182923838216...|[0.91386989702880...|       0.0|\n",
      "|[31.0,8688.21,3.5...|    0|[6.83351883606495...|[0.99892409737428...|       0.0|\n",
      "|[31.0,10182.6,3.7...|    0|[5.40788923482978...|[0.99553890181485...|       0.0|\n",
      "|[31.0,11297.57,6....|    1|[1.28165824042593...|[0.78273191342112...|       0.0|\n",
      "|[31.0,12264.68,5....|    0|[3.96528183102155...|[0.98139020030749...|       0.0|\n",
      "|[32.0,7896.65,7.1...|    0|[3.25945046953186...|[0.96301122107306...|       0.0|\n",
      "|[32.0,8011.38,5.3...|    0|[1.90634409823970...|[0.87060786892661...|       0.0|\n",
      "|[32.0,8575.71,4.2...|    0|[3.83688188506727...|[0.97889432813633...|       0.0|\n",
      "|[32.0,11540.86,3....|    0|[7.03415468673244...|[0.99911951314701...|       0.0|\n",
      "+--------------------+-----+--------------------+--------------------+----------+\n",
      "only showing top 20 rows\n",
      "\n"
     ]
    }
   ],
   "source": [
    "pred_vs_actual = fitted_classifier.evaluate(test_data)\n",
    "pred_vs_actual.predictions.show()"
   ]
  },
  {
   "cell_type": "code",
   "execution_count": 15,
   "id": "84ea855d",
   "metadata": {},
   "outputs": [
    {
     "data": {
      "text/plain": [
       "0.7635390946502059"
      ]
     },
     "execution_count": 15,
     "metadata": {},
     "output_type": "execute_result"
    }
   ],
   "source": [
    "# Evaluamos el area debajo de la curva ROC\n",
    "\n",
    "from pyspark.ml.evaluation import BinaryClassificationEvaluator\n",
    "evaluator = BinaryClassificationEvaluator(rawPredictionCol='prediction', labelCol='Churn')\n",
    "evaluator.evaluate(pred_vs_actual.predictions)"
   ]
  },
  {
   "cell_type": "markdown",
   "id": "c3d9b660",
   "metadata": {},
   "source": [
    "#### 5. Predecimos usando unlabeled data\n"
   ]
  },
  {
   "cell_type": "code",
   "execution_count": 29,
   "id": "66513ff9",
   "metadata": {},
   "outputs": [],
   "source": [
    "# Loading the dataset\n",
    "\n",
    "df.createOrReplaceTempView(\"new_customers\")\n",
    "\n",
    "df_unlabeled = sqlContext.sql('SELECT * FROM new_customers')"
   ]
  },
  {
   "cell_type": "code",
   "execution_count": 31,
   "id": "544966e4",
   "metadata": {},
   "outputs": [
    {
     "name": "stdout",
     "output_type": "stream",
     "text": [
      "+----------------+----+--------------+---------------+-----+---------+-------------------+--------------------+--------------------+-----+\n",
      "|           Names| Age|Total_Purchase|Account_Manager|Years|Num_Sites|       Onboard_date|            Location|             Company|Churn|\n",
      "+----------------+----+--------------+---------------+-----+---------+-------------------+--------------------+--------------------+-----+\n",
      "|Cameron Williams|42.0|       11066.8|              0| 7.22|      8.0|2013-08-30 07:00:40|10265 Elizabeth M...|          Harvey LLC|    1|\n",
      "|   Kevin Mueller|41.0|      11916.22|              0|  6.5|     11.0|2013-08-13 00:38:46|6157 Frank Garden...|          Wilson PLC|    1|\n",
      "|     Eric Lozano|38.0|      12884.75|              0| 6.67|     12.0|2016-06-29 06:20:07|1331 Keith Court ...|Miller, Johnson a...|    1|\n",
      "|   Phillip White|42.0|       8010.76|              0| 6.71|     10.0|2014-04-22 12:43:12|13120 Daniel Moun...|           Smith Inc|    1|\n",
      "|  Cynthia Norton|37.0|       9191.58|              0| 5.56|      9.0|2016-01-19 15:31:15|765 Tricia Row Ka...|          Love-Jones|    1|\n",
      "+----------------+----+--------------+---------------+-----+---------+-------------------+--------------------+--------------------+-----+\n",
      "only showing top 5 rows\n",
      "\n"
     ]
    }
   ],
   "source": [
    "df_unlabeled.show(5)"
   ]
  },
  {
   "cell_type": "markdown",
   "id": "003c1a25",
   "metadata": {},
   "source": [
    "#### 5.1 Transformamos el dataframe en aceptable para PySpark"
   ]
  },
  {
   "cell_type": "code",
   "execution_count": 32,
   "id": "be5ab794",
   "metadata": {},
   "outputs": [],
   "source": [
    "\n",
    "final_df_unlabeled = assembler.transform(df_unlabeled)"
   ]
  },
  {
   "cell_type": "code",
   "execution_count": 34,
   "id": "662680d8",
   "metadata": {},
   "outputs": [
    {
     "name": "stdout",
     "output_type": "stream",
     "text": [
      "+----------------+----+--------------+---------------+-----+---------+-------------------+--------------------+--------------------+-----+--------------------+\n",
      "|           Names| Age|Total_Purchase|Account_Manager|Years|Num_Sites|       Onboard_date|            Location|             Company|Churn|            features|\n",
      "+----------------+----+--------------+---------------+-----+---------+-------------------+--------------------+--------------------+-----+--------------------+\n",
      "|Cameron Williams|42.0|       11066.8|              0| 7.22|      8.0|2013-08-30 07:00:40|10265 Elizabeth M...|          Harvey LLC|    1|[42.0,11066.8,7.2...|\n",
      "|   Kevin Mueller|41.0|      11916.22|              0|  6.5|     11.0|2013-08-13 00:38:46|6157 Frank Garden...|          Wilson PLC|    1|[41.0,11916.22,6....|\n",
      "|     Eric Lozano|38.0|      12884.75|              0| 6.67|     12.0|2016-06-29 06:20:07|1331 Keith Court ...|Miller, Johnson a...|    1|[38.0,12884.75,6....|\n",
      "|   Phillip White|42.0|       8010.76|              0| 6.71|     10.0|2014-04-22 12:43:12|13120 Daniel Moun...|           Smith Inc|    1|[42.0,8010.76,6.7...|\n",
      "|  Cynthia Norton|37.0|       9191.58|              0| 5.56|      9.0|2016-01-19 15:31:15|765 Tricia Row Ka...|          Love-Jones|    1|[37.0,9191.58,5.5...|\n",
      "+----------------+----+--------------+---------------+-----+---------+-------------------+--------------------+--------------------+-----+--------------------+\n",
      "only showing top 5 rows\n",
      "\n"
     ]
    }
   ],
   "source": [
    "final_df_unlabeled.show(5)"
   ]
  },
  {
   "cell_type": "markdown",
   "id": "725132fc",
   "metadata": {},
   "source": [
    "#### 6. Creamos un nuevo modelo usando todo el data set"
   ]
  },
  {
   "cell_type": "code",
   "execution_count": 35,
   "id": "d6b03c3a",
   "metadata": {},
   "outputs": [],
   "source": [
    "classifier_all = classifier.fit(final_df)\n",
    "results = classifier_all.transform(final_df_unlabeled)"
   ]
  },
  {
   "cell_type": "code",
   "execution_count": 36,
   "id": "e6c2ef0a",
   "metadata": {},
   "outputs": [
    {
     "name": "stdout",
     "output_type": "stream",
     "text": [
      "+--------------------+----------+\n",
      "|             Company|prediction|\n",
      "+--------------------+----------+\n",
      "|          Harvey LLC|       0.0|\n",
      "|          Wilson PLC|       1.0|\n",
      "|Miller, Johnson a...|       1.0|\n",
      "|           Smith Inc|       0.0|\n",
      "|          Love-Jones|       0.0|\n",
      "|        Kelly-Warren|       0.0|\n",
      "|   Reynolds-Sheppard|       1.0|\n",
      "|          Singh-Cole|       0.0|\n",
      "|           Lopez PLC|       1.0|\n",
      "|       Reed-Martinez|       1.0|\n",
      "|Briggs, Lamb and ...|       0.0|\n",
      "|    Figueroa-Maynard|       1.0|\n",
      "|     Abbott-Thompson|       0.0|\n",
      "|Smith, Kim and Ma...|       1.0|\n",
      "|Snyder, Lee and M...|       0.0|\n",
      "|      Sanders-Pierce|       1.0|\n",
      "|Andrews, Adams an...|       1.0|\n",
      "|Morgan, Phillips ...|       1.0|\n",
      "|      Villanueva LLC|       0.0|\n",
      "|Berry, Orr and Ca...|       0.0|\n",
      "+--------------------+----------+\n",
      "only showing top 20 rows\n",
      "\n"
     ]
    }
   ],
   "source": [
    "results.select('Company', 'prediction').show()"
   ]
  },
  {
   "cell_type": "code",
   "execution_count": null,
   "id": "7eab5b82",
   "metadata": {},
   "outputs": [],
   "source": []
  }
 ],
 "metadata": {
  "kernelspec": {
   "display_name": "Python 3 (ipykernel)",
   "language": "python",
   "name": "python3"
  },
  "language_info": {
   "codemirror_mode": {
    "name": "ipython",
    "version": 3
   },
   "file_extension": ".py",
   "mimetype": "text/x-python",
   "name": "python",
   "nbconvert_exporter": "python",
   "pygments_lexer": "ipython3",
   "version": "3.9.16"
  }
 },
 "nbformat": 4,
 "nbformat_minor": 5
}
