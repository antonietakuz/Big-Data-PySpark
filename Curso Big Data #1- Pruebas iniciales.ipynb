{
 "cells": [
  {
   "cell_type": "markdown",
   "id": "8c5d593c",
   "metadata": {},
   "source": [
    "## Curso Big Data #1- Pruebas iniciales"
   ]
  },
  {
   "cell_type": "code",
   "execution_count": null,
   "id": "5a511113",
   "metadata": {},
   "outputs": [],
   "source": [
    "# importing module\n",
    "import pyspark\n",
    "\n",
    "import findspark\n",
    "findspark.init()"
   ]
  },
  {
   "cell_type": "code",
   "execution_count": 37,
   "id": "310df577",
   "metadata": {},
   "outputs": [],
   "source": [
    "import pandas\n"
   ]
  },
  {
   "cell_type": "code",
   "execution_count": 2,
   "id": "6bda45a3",
   "metadata": {},
   "outputs": [],
   "source": [
    "# importing sparksession from\n",
    "# pyspark.sql module\n",
    "from pyspark.sql import SparkSession"
   ]
  },
  {
   "cell_type": "code",
   "execution_count": 5,
   "id": "4db10091",
   "metadata": {},
   "outputs": [],
   "source": [
    "# creating sparksession and giving\n",
    "# an app name\n",
    "#spark = SparkSession.builder.appName('sparkdf').getOrCreate()\n",
    "\n",
    "spark = (SparkSession\n",
    "   .builder\n",
    "   .master('local[*]') # add this\n",
    "   .appName(\"sparkdf\")\n",
    "   .getOrCreate())"
   ]
  },
  {
   "cell_type": "code",
   "execution_count": 6,
   "id": "1150c5b7",
   "metadata": {},
   "outputs": [],
   "source": [
    "# list of employee data with 5 row values\n",
    "data = [[\"1\", \"sravan\", \"company 1\"], [\"2\", \"ojaswi\", \"company 2\"],[\"3\", \"bobby\", \"company 3\"],[\"4\", \"rohith\", \"company 2\"],[\"5\", \"gnanesh\", \"company 1\"]]"
   ]
  },
  {
   "cell_type": "code",
   "execution_count": 7,
   "id": "d2064432",
   "metadata": {},
   "outputs": [],
   "source": [
    "# specify column names\n",
    "columns = ['Employee ID', 'Employee NAME', 'Company Name']\n"
   ]
  },
  {
   "cell_type": "code",
   "execution_count": 8,
   "id": "25fdc733",
   "metadata": {},
   "outputs": [],
   "source": [
    "# creating a dataframe from the lists of data\n",
    "dataframe = spark.createDataFrame(data, columns)"
   ]
  },
  {
   "cell_type": "code",
   "execution_count": 9,
   "id": "715feee3",
   "metadata": {},
   "outputs": [
    {
     "name": "stdout",
     "output_type": "stream",
     "text": [
      "DataFrame[Employee ID: string, Employee NAME: string, Company Name: string]\n"
     ]
    }
   ],
   "source": [
    "print(dataframe)"
   ]
  },
  {
   "cell_type": "code",
   "execution_count": 10,
   "id": "60fd41e4",
   "metadata": {},
   "outputs": [
    {
     "name": "stdout",
     "output_type": "stream",
     "text": [
      "+-----------+-------------+------------+\n",
      "|Employee ID|Employee NAME|Company Name|\n",
      "+-----------+-------------+------------+\n",
      "|          1|       sravan|   company 1|\n",
      "|          2|       ojaswi|   company 2|\n",
      "|          3|        bobby|   company 3|\n",
      "|          4|       rohith|   company 2|\n",
      "|          5|      gnanesh|   company 1|\n",
      "+-----------+-------------+------------+\n",
      "\n"
     ]
    }
   ],
   "source": [
    "dataframe.show()"
   ]
  }
 ],
 "metadata": {
  "kernelspec": {
   "display_name": "Python 3 (ipykernel)",
   "language": "python",
   "name": "python3"
  },
  "language_info": {
   "codemirror_mode": {
    "name": "ipython",
    "version": 3
   },
   "file_extension": ".py",
   "mimetype": "text/x-python",
   "name": "python",
   "nbconvert_exporter": "python",
   "pygments_lexer": "ipython3",
   "version": "3.9.16"
  }
 },
 "nbformat": 4,
 "nbformat_minor": 5
}
